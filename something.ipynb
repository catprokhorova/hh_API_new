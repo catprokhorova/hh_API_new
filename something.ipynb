{
 "cells": [
  {
   "cell_type": "code",
   "execution_count": 1,
   "metadata": {},
   "outputs": [],
   "source": [
    "import requests\n",
    "from pprint import pprint"
   ]
  },
  {
   "cell_type": "code",
   "execution_count": 30,
   "metadata": {},
   "outputs": [],
   "source": [
    "url = 'https://api.hh.ru/specializations'\n",
    "r = requests.get(url).json()\n",
    "\n",
    "with open('spec.csv', 'w', encoding='utf-8') as file:\n",
    "    for el in r:\n",
    "        if el['name'] == 'Информационные технологии, интернет, телеком':\n",
    "            for i in el['specializations']:\n",
    "                file.write(i['name'] + ';' + i['id'] + '\\n')"
   ]
  },
  {
   "cell_type": "code",
   "execution_count": null,
   "metadata": {},
   "outputs": [],
   "source": [
    "url = 'https://api.hh.ru/vacancies'\n",
    "r = requests.get(url).json()\n",
    "\n",
    "for key, value in r.items():\n",
    "    pprint(value)\n",
    "    break"
   ]
  },
  {
   "cell_type": "code",
   "execution_count": null,
   "metadata": {},
   "outputs": [],
   "source": []
  }
 ],
 "metadata": {
  "kernelspec": {
   "display_name": "Python 3.10.6 ('hh_API': venv)",
   "language": "python",
   "name": "python3"
  },
  "language_info": {
   "codemirror_mode": {
    "name": "ipython",
    "version": 3
   },
   "file_extension": ".py",
   "mimetype": "text/x-python",
   "name": "python",
   "nbconvert_exporter": "python",
   "pygments_lexer": "ipython3",
   "version": "3.10.7"
  },
  "orig_nbformat": 4,
  "vscode": {
   "interpreter": {
    "hash": "6deb0a0115bfc5f47e193889bc0751bf135b8408f6dd1dc1d66bfdbcba3523ab"
   }
  }
 },
 "nbformat": 4,
 "nbformat_minor": 2
}
