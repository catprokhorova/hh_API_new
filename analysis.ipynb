{
 "cells": [
  {
   "cell_type": "code",
   "execution_count": null,
   "metadata": {},
   "outputs": [],
   "source": [
    "import pandas as pd\n",
    "import numpy as np\n",
    "from numpy import NaN\n",
    "from itertools import chain\n",
    "import json\n"
   ]
  },
  {
   "cell_type": "code",
   "execution_count": null,
   "metadata": {},
   "outputs": [],
   "source": [
    "# напрямую с файлами\n",
    "ac = pd.read_csv('results/1С-аналитик_vac.csv', sep=';', encoding='utf-8')\n",
    "ds = pd.read_csv('results/Data Scientist_vac.csv', sep=';', encoding='utf-8')\n",
    "do = pd.read_csv('results/DataOps-инженер_vac.csv', sep=';', encoding='utf-8')\n",
    "ab = pd.read_csv('results/Аналитик BI_vac.csv', sep=';', encoding='utf-8')\n",
    "ad = pd.read_csv('results/Аналитик данных_vac.csv', sep=';', encoding='utf-8')\n",
    "# dj = pd.read_csv('results/Дата-журналист_vac.csv', sep=';', encoding='utf-8')\n",
    "de = pd.read_csv('results/Дата-инженер_vac.csv', sep=';', encoding='utf-8')\n",
    "ma = pd.read_csv('results/Маркетинговый аналитик_vac.csv', sep=';', encoding='utf-8')\n",
    "pa = pd.read_csv('results/Продуктовый аналитик_vac.csv', sep=';', encoding='utf-8')\n",
    "sa = pd.read_csv('results/Системный аналитик_vac.csv', sep=';', encoding='utf-8')\n",
    "fa = pd.read_csv('results/Финансовый аналитик_vac.csv', sep=';', encoding='utf-8')\n",
    "ba = pd.read_csv('results/Бизнес-аналитик_vac.csv', sep=';', encoding='utf-8')\n"
   ]
  },
  {
   "cell_type": "code",
   "execution_count": null,
   "metadata": {},
   "outputs": [],
   "source": [
    "# добавление меток широта-долгота\n",
    "with open('geo_rus.json', encoding='utf-8') as geo:\n",
    "    cities = json.load(geo)\n",
    "\n",
    "def lat(row):\n",
    "    for el in cities:\n",
    "        if row == el['city']:\n",
    "            return float(el['lat'])\n",
    "        \n",
    "def lon(row):\n",
    "    for el in cities:\n",
    "        if row == el['city']:\n",
    "            return float(el['lon'])\n"
   ]
  },
  {
   "cell_type": "code",
   "execution_count": null,
   "metadata": {},
   "outputs": [],
   "source": [
    "full = pd.concat([ds, do, ab, ad, dj, de, ma, sa, ac, fa, ba, pa])\n",
    "# full.to_csv('vacancies.csv', index=False)\n",
    "\n",
    "full['lat'] = full['city'].apply(lat)\n",
    "full['lon'] = full['city'].apply(lon)\n",
    "full = full[['id', 'spec', 'job_title', 'city', 'lat', 'lon', \n",
    "         'employer', 'schedule', 'skills', 'experience', \n",
    "         'published', 'salary_from', 'salary_to', 'currency']]"
   ]
  },
  {
   "cell_type": "code",
   "execution_count": null,
   "metadata": {},
   "outputs": [],
   "source": [
    "ac_sk = ['1c|1с', 'agile|scrum|kanban', 'управление', 'erp', 'отчет',\n",
    "         'анализ', 'тз', 'srs', 'моделирование', 'bpmn', 'тестирование',\n",
    "         'документ']\n",
    "\n",
    "ds_sk = ['анализ', 'sheets', 'статистика', 'data studio', 'python', 'sql',\n",
    "         'ml', 'machine learning', 'сбор', 'визуализация', 'исследование',\n",
    "         'нейронные сети', 'нейросети', 'временные ряды', 'алгоритм',\n",
    "         'sklearn', 'tensorflow', 'pytorch','cv', 'gan', 'nlp']\n",
    "\n",
    "de_do_sk = ['sql', 'базы данных', 'etl', 'power bi|powerbi', 'python', \n",
    "            'pandas', 'numpy', 'hadoop', 'mapreduce', 'apache', 'kafka', \n",
    "            'spark', 'airflow', 'clickhouse', 'yandex cloud', 'docker', \n",
    "            'kubernetes', 'ansible', 'gitlab ci', 'mlflow']\n",
    "\n",
    "ab_sk = ['анализ', 'sheets', 'excel', 'статистика', 'визуализация', \n",
    "         'data studio', 'power bi|powerbi', 'pivot', 'datalens', 'tableau',\n",
    "         'сбор', 'sql', 'ssas']\n",
    "\n",
    "ad_sk = ['анализ', 'sheets', 'excel', 'статистика', 'визуализация',\n",
    "         'data studio', 'python', 'jupyter notebook', 'numpy', \n",
    "         'pandas', 'сбор', 'sql', 'ml', 'machine learning', 'hadoop']\n",
    "\n",
    "dj_sk = ['анализ', 'сбор', 'очистка', 'визуализация', 'построение карт', 'сторителлинг',\n",
    "         'python', 'pandas', 'статистика', 'tableau']\n",
    "\n",
    "ma_sk = ['анализ', 'sheets', 'статистика', 'визуализация', 'google looker studio',\n",
    "         'метрики', 'юнит-экономика', 'поиск точек роста', 'RFM-анализ', \n",
    "         'когортный анализ', 'веб-аналитика', 'яндекс метрика', 'google analitics',\n",
    "         'ab', 'sql', 'power bi|powerbi', 'python', 'numpy', 'pandas', 'api']\n",
    "\n",
    "pa_sk = ['анализ', 'юнит-экономика', 'ab', 'sql', 'tableau', 'power bi|powerbi', \n",
    "         'python', 'numpy', 'pandas', 'исследов']\n",
    "\n",
    "sa_sk = ['разработка по', 'agile', 'scrum', 'моделирование бизнес-процессов',\n",
    "         'нотации', 'проектирование', 'сбор', 'описание', 'визуализация',\n",
    "         'прототипирование', 'figma', 'sql', 'rest api', 'soap', 'open api',\n",
    "         'проектная документация', 'cjm', 'тз', 'спецификация', 'SRS', 'bcm']\n",
    "\n",
    "fa_sk = ['1с', 'бухгалтер', 'финансовая', 'анализ', 'управление', 'статистика', \n",
    "         'план-фактный анализ', 'планирование', 'моделирование', 'презентац',\n",
    "         'powerpoint', 'excel', 'визуализация']\n",
    "\n",
    "ba_sk = ['моделирование', 'анализ', 'оптимизация', 'отчетност', 'сбор',\n",
    "         'tableau', 'bi', 'исследовани', 'agile|scrum|kanban', 'тз', 'документ']\n"
   ]
  },
  {
   "attachments": {},
   "cell_type": "markdown",
   "metadata": {},
   "source": [
    "#### 1 / 12 Аналитик данных, подготовка к конкату"
   ]
  },
  {
   "cell_type": "code",
   "execution_count": null,
   "metadata": {},
   "outputs": [],
   "source": [
    "ad.drop(['job_title', 'city', 'employer', 'schedule', 'experience',\n",
    "         'published', 'salary_from', 'salary_to', 'currency'], \n",
    "         axis=1, inplace=True)\n",
    "ad.skills.replace(NaN, '-', inplace=True)\n",
    "\n",
    "def chainer(s):\n",
    "    return list(chain.from_iterable(s.str.split(',')))\n",
    "\n",
    "lens = ad.skills.str.split(',').map(len)\n",
    "\n",
    "ad = pd.DataFrame({'id': np.repeat(ad['id'], lens),\n",
    "                    'spec': np.repeat(ad['spec'], lens),\n",
    "                    'skills': chainer(ad['skills'])})\n",
    "# ad.head()\n",
    "lens"
   ]
  },
  {
   "cell_type": "code",
   "execution_count": null,
   "metadata": {},
   "outputs": [],
   "source": [
    "ad = ad.loc[ad.skills.str.contains('|'.join(ad_sk))]\n",
    "ad.skills = ad.skills.str.strip()\n",
    "\n",
    "ad.skills.loc[(ad.skills.str.contains('sql'))] = 'sql'\n",
    "ad.skills.loc[(ad.skills.str.contains('excel'))] = 'excel'\n",
    "ad.skills.loc[(ad.skills.str.contains('machine learning'))] = 'ml'\n",
    "ad.skills.loc[(ad.skills.str.contains('анализ'))] = 'анализ (данных, финансовый, т.д.)'"
   ]
  },
  {
   "attachments": {},
   "cell_type": "markdown",
   "metadata": {},
   "source": [
    "#### 2 / 12 Data Scientist, подготовка к конкату"
   ]
  },
  {
   "cell_type": "code",
   "execution_count": null,
   "metadata": {},
   "outputs": [],
   "source": [
    "ds.drop(['job_title', 'city', 'employer', 'schedule', 'experience',\n",
    "         'published', 'salary_from', 'salary_to', 'currency'], \n",
    "         axis=1, inplace=True)\n",
    "ds.skills.replace(NaN, '-', inplace=True)\n",
    "\n",
    "def chainer(s):\n",
    "    return list(chain.from_iterable(s.str.split(',')))\n",
    "\n",
    "lens = ds.skills.str.split(',').map(len)\n",
    "\n",
    "ds = pd.DataFrame({'id': np.repeat(ds['id'], lens),\n",
    "                    'spec': np.repeat(ds['spec'], lens),\n",
    "                    'skills': chainer(ds['skills'])})"
   ]
  },
  {
   "cell_type": "code",
   "execution_count": null,
   "metadata": {},
   "outputs": [],
   "source": [
    "ds = ds.loc[ds.skills.str.contains('|'.join(ds_sk))]\n",
    "ds.skills = ds.skills.str.strip()\n",
    "\n",
    "ds.skills.loc[(ds.skills.str.contains('sql'))] = 'sql'\n",
    "ds.skills.loc[(ds.skills.str.contains('excel'))] = 'excel'\n",
    "ds.skills.loc[(ds.skills.str.contains('machine learning'))] = 'ml'\n",
    "ds.skills.loc[(ds.skills.str.contains('ml'))] = 'ml'\n",
    "ds.skills.loc[(ds.skills.str.contains('анализ'))] = 'анализ (данных, финансовый, т.д.)'"
   ]
  },
  {
   "attachments": {},
   "cell_type": "markdown",
   "metadata": {},
   "source": [
    "#### 3 / 12 Аналитик BI, подготовка к конкату"
   ]
  },
  {
   "cell_type": "code",
   "execution_count": null,
   "metadata": {},
   "outputs": [],
   "source": [
    "ab.drop(['job_title', 'city', 'employer', 'schedule', 'experience',\n",
    "         'published', 'salary_from', 'salary_to', 'currency'], \n",
    "         axis=1, inplace=True)\n",
    "ab.skills.replace(NaN, '-', inplace=True)\n",
    "\n",
    "def chainer(s):\n",
    "    return list(chain.from_iterable(s.str.split(',')))\n",
    "\n",
    "lens = ab.skills.str.split(',').map(len)\n",
    "\n",
    "ab = pd.DataFrame({'id': np.repeat(ab['id'], lens),\n",
    "                    'spec': np.repeat(ab['spec'], lens),\n",
    "                    'skills': chainer(ab['skills'])})"
   ]
  },
  {
   "cell_type": "code",
   "execution_count": null,
   "metadata": {},
   "outputs": [],
   "source": [
    "ab = ab.loc[ab.skills.str.contains('|'.join(ab_sk))]\n",
    "ab.skills = ab.skills.str.strip()\n",
    "\n",
    "ab.skills.loc[(ab.skills.str.contains('sql'))] = 'sql'\n",
    "ab.skills.loc[(ab.skills.str.contains('excel'))] = 'excel'\n",
    "ab.skills.loc[(ab.skills.str.contains('bi'))] = 'power bi'\n",
    "ab.skills.loc[(ab.skills.str.contains('pivot'))] = 'pivot'\n",
    "ab.skills.loc[(ab.skills.str.contains('анализ'))] = 'анализ (данных, финансовый, т.д.)'"
   ]
  },
  {
   "attachments": {},
   "cell_type": "markdown",
   "metadata": {},
   "source": [
    "#### 4 / 12 Системный аналитик, подготовка к конкату"
   ]
  },
  {
   "cell_type": "code",
   "execution_count": null,
   "metadata": {},
   "outputs": [],
   "source": [
    "sa.drop(['job_title', 'city', 'employer', 'schedule', 'experience',\n",
    "         'published', 'salary_from', 'salary_to', 'currency'], \n",
    "         axis=1, inplace=True)\n",
    "sa.skills.replace(NaN, '-', inplace=True)\n",
    "\n",
    "def chainer(s):\n",
    "    return list(chain.from_iterable(s.str.split(',')))\n",
    "\n",
    "lens = sa.skills.str.split(',').map(len)\n",
    "\n",
    "sa = pd.DataFrame({'id': np.repeat(sa['id'], lens),\n",
    "                    'spec': np.repeat(sa['spec'], lens),\n",
    "                    'skills': chainer(sa['skills'])})"
   ]
  },
  {
   "cell_type": "code",
   "execution_count": null,
   "metadata": {},
   "outputs": [],
   "source": [
    "sa = sa.loc[sa.skills.str.contains('|'.join(sa_sk))]\n",
    "sa.skills = sa.skills.str.strip()\n",
    "\n",
    "sa.skills.loc[(sa.skills.str.contains('sql'))] = 'sql'\n",
    "sa.skills.loc[(sa.skills.str.contains('agile'))] = 'agile'\n",
    "sa.skills.loc[(sa.skills.str.contains('тз'))] = 'написание тз'\n",
    "sa.skills.loc[(sa.skills.str.contains('soap'))] = 'soap'\n",
    "sa.skills.loc[(sa.skills.str.contains('моделирование | проектирование'))] = 'проектирование (интерфейсов, api, т.д.)'\n",
    "sa.skills.loc[(sa.skills.str.contains('сбор требований'))] = 'сбор требований'"
   ]
  },
  {
   "attachments": {},
   "cell_type": "markdown",
   "metadata": {},
   "source": [
    "#### 5 / 12 Маркетинговый аналитик, подготовка к конкату"
   ]
  },
  {
   "cell_type": "code",
   "execution_count": null,
   "metadata": {},
   "outputs": [],
   "source": [
    "ma.drop(['job_title', 'city', 'employer', 'schedule', 'experience',\n",
    "         'published', 'salary_from', 'salary_to', 'currency'], \n",
    "         axis=1, inplace=True)\n",
    "ma.skills.replace(NaN, '-', inplace=True)\n",
    "\n",
    "def chainer(s):\n",
    "    return list(chain.from_iterable(s.str.split(',')))\n",
    "\n",
    "lens = ma.skills.str.split(',').map(len)\n",
    "\n",
    "ma = pd.DataFrame({'id': np.repeat(ma['id'], lens),\n",
    "                    'spec': np.repeat(ma['spec'], lens),\n",
    "                    'skills': chainer(ma['skills'])})"
   ]
  },
  {
   "cell_type": "code",
   "execution_count": null,
   "metadata": {},
   "outputs": [],
   "source": [
    "ma = ma.loc[ma.skills.str.contains('|'.join(ma_sk))]\n",
    "ma.skills = ma.skills.str.strip()\n",
    "\n",
    "ma.skills.loc[(ma.skills.str.contains('анализ'))] = 'анализ (данных, финансовый, т.д.)'\n",
    "ma.skills.loc[(ma.skills.str.contains('sql'))] = 'sql'\n",
    "ma.skills.loc[(ma.skills.str.contains('статистика'))] = 'статистика'"
   ]
  },
  {
   "attachments": {},
   "cell_type": "markdown",
   "metadata": {},
   "source": [
    "#### 6 / 12 Дата-журналист, подготовка к конкату"
   ]
  },
  {
   "cell_type": "code",
   "execution_count": null,
   "metadata": {},
   "outputs": [],
   "source": [
    "dj.drop(['job_title', 'city', 'employer', 'schedule', 'experience',\n",
    "         'published', 'salary_from', 'salary_to', 'currency'], \n",
    "         axis=1, inplace=True)\n",
    "dj.skills.replace(NaN, '-', inplace=True)\n",
    "\n",
    "def chainer(s):\n",
    "    return list(chain.from_iterable(s.str.split(',')))\n",
    "\n",
    "lens = dj.skills.str.split(',').map(len)\n",
    "\n",
    "dj = pd.DataFrame({'id': np.repeat(dj['id'], lens),\n",
    "                    'spec': np.repeat(dj['spec'], lens),\n",
    "                    'skills': chainer(dj['skills'])})"
   ]
  },
  {
   "cell_type": "code",
   "execution_count": null,
   "metadata": {},
   "outputs": [],
   "source": [
    "dj = dj.loc[dj.skills.str.contains('|'.join(dj_sk))]\n",
    "dj.skills = dj.skills.str.strip()\n",
    "\n",
    "dj.skills.loc[(dj.skills.str.contains('анализ'))] = 'анализ (данных, финансовый, т.д.)'\n",
    "dj.skills.loc[(dj.skills.str.contains('сбор'))] = 'сбор данных'\n",
    "dj.skills.loc[(dj.skills.str.contains('визуализация'))] = 'визуализация данных'\n",
    "dj.skills.loc[(dj.skills.str.contains('storytelling'))] = 'сторителлинг'\n",
    "dj.skills.loc[(dj.skills.str.contains('story telling'))] = 'сторителлинг'"
   ]
  },
  {
   "attachments": {},
   "cell_type": "markdown",
   "metadata": {},
   "source": [
    "#### 7-8 / 12 Дата-инженер | DataOps-инженер, подготовка к конкату"
   ]
  },
  {
   "cell_type": "code",
   "execution_count": null,
   "metadata": {},
   "outputs": [],
   "source": [
    "#DataOps\n",
    "do.drop(['job_title', 'city', 'employer', 'schedule', 'experience',\n",
    "         'published', 'salary_from', 'salary_to', 'currency'], \n",
    "         axis=1, inplace=True)\n",
    "do.skills.replace(NaN, '-', inplace=True)\n",
    "\n",
    "def chainer(s):\n",
    "    return list(chain.from_iterable(s.str.split(',')))\n",
    "\n",
    "lens = do.skills.str.split(',').map(len)\n",
    "\n",
    "do = pd.DataFrame({'id': np.repeat(do['id'], lens),\n",
    "                    'spec': np.repeat(do['spec'], lens),\n",
    "                    'skills': chainer(do['skills'])})"
   ]
  },
  {
   "cell_type": "code",
   "execution_count": null,
   "metadata": {},
   "outputs": [],
   "source": [
    "do = do.loc[do.skills.str.contains('|'.join(de_do_sk))]\n",
    "do.skills = do.skills.str.strip()\n",
    "\n",
    "do.skills.unique()\n",
    "\n",
    "# do.skills.loc[(do.skills.str.contains('...'))] = '...'\n",
    "# do.skills.loc[(do.skills.str.contains('...'))] = '...'"
   ]
  },
  {
   "cell_type": "code",
   "execution_count": null,
   "metadata": {},
   "outputs": [],
   "source": [
    "# дата-инженер\n",
    "de.drop(['job_title', 'city', 'employer', 'schedule', 'experience',\n",
    "         'published', 'salary_from', 'salary_to', 'currency'], \n",
    "         axis=1, inplace=True)\n",
    "de.skills.replace(NaN, '-', inplace=True)\n",
    "\n",
    "def chainer(s):\n",
    "    return list(chain.from_iterable(s.str.split(',')))\n",
    "\n",
    "lens = de.skills.str.split(',').map(len)\n",
    "\n",
    "de = pd.DataFrame({'id': np.repeat(de['id'], lens),\n",
    "                    'spec': np.repeat(de['spec'], lens),\n",
    "                    'skills': chainer(de['skills'])})"
   ]
  },
  {
   "cell_type": "code",
   "execution_count": null,
   "metadata": {},
   "outputs": [],
   "source": [
    "de = de.loc[de.skills.str.contains('|'.join(de_do_sk))]\n",
    "de.skills = de.skills.str.strip()\n",
    "\n",
    "de.skills.loc[(de.skills.str.contains('sql'))] = 'sql'\n",
    "de.skills.loc[(de.skills.str.contains('bi'))] = 'power bi'\n",
    "de.skills.loc[(de.skills.str.contains('airflow'))] = 'airflow'\n",
    "de.skills.loc[(de.skills.str.contains('nifi|ni-fi'))] = 'nifi'"
   ]
  },
  {
   "attachments": {},
   "cell_type": "markdown",
   "metadata": {},
   "source": [
    "#### 9 / 12 Финансовый аналитик, подготовка к конкату"
   ]
  },
  {
   "cell_type": "code",
   "execution_count": null,
   "metadata": {},
   "outputs": [],
   "source": [
    "fa.drop(['job_title', 'city', 'employer', 'schedule', 'experience',\n",
    "         'published', 'salary_from', 'salary_to', 'currency'], \n",
    "         axis=1, inplace=True)\n",
    "fa.skills.replace(NaN, '-', inplace=True)\n",
    "\n",
    "def chainer(s):\n",
    "    return list(chain.from_iterable(s.str.split(',')))\n",
    "\n",
    "lens = fa.skills.str.split(',').map(len)\n",
    "\n",
    "fa = pd.DataFrame({'id': np.repeat(fa['id'], lens),\n",
    "                    'spec': np.repeat(fa['spec'], lens),\n",
    "                    'skills': chainer(fa['skills'])})"
   ]
  },
  {
   "cell_type": "code",
   "execution_count": null,
   "metadata": {},
   "outputs": [],
   "source": [
    "fa = fa.loc[fa.skills.str.contains('|'.join(fa_sk))]\n",
    "fa.skills = fa.skills.str.strip()\n",
    "\n",
    "fa.skills.loc[(fa.skills.str.contains('1с|1c'))] = '1с (предприятие, бухгалтерия)'\n",
    "fa.skills.loc[(fa.skills.str.contains('excel'))] = 'excel'\n",
    "fa.skills.loc[(fa.skills.str.contains('powerpoint|презент'))] = 'powerpoint'\n",
    "fa.skills.loc[(fa.skills.str.contains('анали'))] = 'анализ (данных, финансовый, т.д.)'\n",
    "fa.skills.loc[(fa.skills.str.contains('управление'))] = 'управление (рисками, затратами, т.д.)'\n",
    "fa.skills.loc[(fa.skills.str.contains('планирование'))] = 'планирование (финансовое, инвестиционное, т.д.)'\n",
    "fa.skills.loc[(fa.skills.str.contains('моделирование'))] = 'моделирование (финансовое, экономическое, т.д.)'\n",
    "fa.skills.loc[(fa.skills.str.contains('бухгал'))] = 'бухучёт'\n",
    "fa.skills.loc[(fa.skills.str.contains('статистика'))] = 'статистика'\n",
    "fa.skills.loc[(fa.skills.str.contains('визуализация'))] = 'визуализация'"
   ]
  },
  {
   "attachments": {},
   "cell_type": "markdown",
   "metadata": {},
   "source": [
    "#### 10 / 12 1С-аналитик, подготовка к конкату"
   ]
  },
  {
   "cell_type": "code",
   "execution_count": null,
   "metadata": {},
   "outputs": [],
   "source": [
    "ac.drop(['job_title', 'city', 'employer', 'schedule', 'experience',\n",
    "         'published', 'salary_from', 'salary_to', 'currency'], \n",
    "         axis=1, inplace=True)\n",
    "ac.skills.replace(NaN, '-', inplace=True)\n",
    "\n",
    "def chainer(s):\n",
    "    return list(chain.from_iterable(s.str.split(',')))\n",
    "\n",
    "lens = ac.skills.str.split(',').map(len)\n",
    "\n",
    "ac = pd.DataFrame({'id': np.repeat(ac['id'], lens),\n",
    "                    'spec': np.repeat(ac['spec'], lens),\n",
    "                    'skills': chainer(ac['skills'])})"
   ]
  },
  {
   "cell_type": "code",
   "execution_count": null,
   "metadata": {},
   "outputs": [],
   "source": [
    "ac = ac.loc[ac.skills.str.contains('|'.join(ac_sk))]\n",
    "ac.skills = ac.skills.str.strip()\n",
    "\n",
    "ac.skills.loc[(ac.skills.str.contains('1с|1c'))] = '1с (предприятие, бухгалтерия)'\n",
    "ac.skills.loc[(ac.skills.str.contains('отчетность'))] = 'отчетность (налоговая, бухгалтерская)'\n",
    "ac.skills.loc[(ac.skills.str.contains('powerpoint'))] = 'powerpoint'\n",
    "ac.skills.loc[(ac.skills.str.contains('документ'))] = 'проектная документация'"
   ]
  },
  {
   "attachments": {},
   "cell_type": "markdown",
   "metadata": {},
   "source": [
    "#### 11 / 12 Продуктовый аналитик, подготовка к конкату"
   ]
  },
  {
   "cell_type": "code",
   "execution_count": null,
   "metadata": {},
   "outputs": [],
   "source": [
    "pa.drop(['job_title', 'city', 'employer', 'schedule', 'experience',\n",
    "         'published', 'salary_from', 'salary_to', 'currency'], \n",
    "         axis=1, inplace=True)\n",
    "pa.skills.replace(NaN, '-', inplace=True)\n",
    "\n",
    "def chainer(s):\n",
    "    return list(chain.from_iterable(s.str.split(',')))\n",
    "\n",
    "lens = pa.skills.str.split(',').map(len)\n",
    "\n",
    "pa = pd.DataFrame({'id': np.repeat(pa['id'], lens),\n",
    "                    'spec': np.repeat(pa['spec'], lens),\n",
    "                    'skills': chainer(pa['skills'])})"
   ]
  },
  {
   "cell_type": "code",
   "execution_count": null,
   "metadata": {},
   "outputs": [],
   "source": [
    "pa = pa.loc[pa.skills.str.contains('|'.join(pa_sk))]\n",
    "pa.skills = pa.skills.str.strip()\n",
    "\n",
    "pa.skills.loc[(pa.skills.str.contains('sql'))] = 'sql'\n",
    "pa.skills.loc[(pa.skills.str.contains('анализ|analys'))] = 'анализ (данных, финансовый, т.д.)'\n",
    "pa.skills.loc[(pa.skills.str.contains('bi'))] = 'power bi'\n",
    "pa.skills.loc[(pa.skills.str.contains('исследов'))] = 'проведение исследований'"
   ]
  },
  {
   "attachments": {},
   "cell_type": "markdown",
   "metadata": {},
   "source": [
    "#### 12 / 12 Бизнес-аналитик, подготовка к конкату"
   ]
  },
  {
   "cell_type": "code",
   "execution_count": null,
   "metadata": {},
   "outputs": [],
   "source": [
    "ba.drop(['job_title', 'city', 'employer', 'schedule', 'experience',\n",
    "         'published', 'salary_from', 'salary_to', 'currency'], \n",
    "         axis=1, inplace=True)\n",
    "ba.skills.replace(NaN, '-', inplace=True)\n",
    "\n",
    "def chainer(s):\n",
    "    return list(chain.from_iterable(s.str.split(',')))\n",
    "\n",
    "lens = ba.skills.str.split(',').map(len)\n",
    "\n",
    "ba = pd.DataFrame({'id': np.repeat(ba['id'], lens),\n",
    "                    'spec': np.repeat(ba['spec'], lens),\n",
    "                    'skills': chainer(ba['skills'])})"
   ]
  },
  {
   "cell_type": "code",
   "execution_count": null,
   "metadata": {},
   "outputs": [],
   "source": [
    "ba = ba.loc[ba.skills.str.contains('|'.join(ba_sk))]\n",
    "ba.skills = ba.skills.str.strip()\n",
    "\n",
    "ba.skills.loc[(ba.skills.str.contains('анализ'))] = 'анализ (данных, финансовый, т.д.)'\n",
    "ba.skills.loc[(ba.skills.str.contains('моделирование'))] = 'моделирование (финансовое, экономическое, т.д.)'\n",
    "ba.skills.loc[(ba.skills.str.contains('отчет'))] = 'отчетность (налоговая, бухгалтерская)'\n",
    "ba.skills.loc[(ba.skills.str.contains('bi'))] = 'bi-системы'\n",
    "ba.skills.loc[(ba.skills.str.contains('документ'))] = 'проектная документация'\n",
    "ba.skills.loc[(ba.skills.str.contains('оптимизация'))] = 'оптимизация процессов'\n",
    "ba.skills.loc[(ba.skills.str.contains('исследов'))] = 'проведение исследований'\n",
    "ba.skills.loc[(ba.skills.str.contains('тз'))] = 'составление тз'\n",
    "ba.skills.loc[(ba.skills.str.contains('сбор'))] = 'сбор требований'\n",
    "ba.skills.loc[(ba.skills.str.contains('agile'))] = 'agile'"
   ]
  },
  {
   "attachments": {},
   "cell_type": "markdown",
   "metadata": {},
   "source": [
    "#### Конкат + топ-15 навыков + сводная"
   ]
  },
  {
   "cell_type": "code",
   "execution_count": null,
   "metadata": {},
   "outputs": [],
   "source": [
    "df = pd.concat([ds, do, ab, ad, dj, de, ma, sa, ac, fa, ba, pa])\n",
    "df.skills.replace(NaN, '-', inplace=True)\n",
    "df"
   ]
  },
  {
   "cell_type": "code",
   "execution_count": null,
   "metadata": {},
   "outputs": [],
   "source": [
    "top_15 = df.skills.value_counts().to_frame().reset_index().head(15)\n",
    "list_top = list(top_15.skills)\n",
    "list_top"
   ]
  },
  {
   "cell_type": "code",
   "execution_count": null,
   "metadata": {},
   "outputs": [],
   "source": [
    "df = df[df.skills.isin(list_top)]"
   ]
  },
  {
   "cell_type": "code",
   "execution_count": null,
   "metadata": {},
   "outputs": [],
   "source": [
    "df = pd.pivot_table(\n",
    "    df,\n",
    "    index='skills',\n",
    "    columns='spec',\n",
    "    values='id',\n",
    "    aggfunc='count'\n",
    ").reset_index()"
   ]
  },
  {
   "cell_type": "code",
   "execution_count": null,
   "metadata": {},
   "outputs": [],
   "source": [
    "df"
   ]
  },
  {
   "cell_type": "code",
   "execution_count": null,
   "metadata": {},
   "outputs": [],
   "source": [
    "df.to_excel('key_skills.xlsx', index=False)"
   ]
  },
  {
   "attachments": {},
   "cell_type": "markdown",
   "metadata": {},
   "source": [
    "# Карта РФ"
   ]
  },
  {
   "cell_type": "code",
   "execution_count": null,
   "metadata": {},
   "outputs": [],
   "source": [
    "df = full.groupby('city')['id'].count()\n",
    "df"
   ]
  },
  {
   "cell_type": "code",
   "execution_count": null,
   "metadata": {},
   "outputs": [],
   "source": [
    "import plotly.express as px\n",
    "\n",
    "fig = px.scatter_mapbox(full, lat=\"lat\", lon=\"lon\",\n",
    "                        size='id', size_max=5,)\n",
    "fig.update_layout(\n",
    "        mapbox=dict(\n",
    "            accesstoken='pk.eyJ1IjoiZHVtYmZpc2giLCJhIjoiY2xobTc3YXVrMTltZzNocXAwNzQxcG9tdSJ9.HyrRTRTCyDWgZdaFWadHxQ',\n",
    "            style='mapbox://styles/dumbfish/clhm8mm6c01n701pr051pebv8'\n",
    "        )\n",
    "    )"
   ]
  },
  {
   "cell_type": "code",
   "execution_count": null,
   "metadata": {},
   "outputs": [],
   "source": []
  }
 ],
 "metadata": {
  "kernelspec": {
   "display_name": ".venv",
   "language": "python",
   "name": "python3"
  },
  "language_info": {
   "codemirror_mode": {
    "name": "ipython",
    "version": 3
   },
   "file_extension": ".py",
   "mimetype": "text/x-python",
   "name": "python",
   "nbconvert_exporter": "python",
   "pygments_lexer": "ipython3",
   "version": "3.11.3"
  },
  "orig_nbformat": 4,
  "vscode": {
   "interpreter": {
    "hash": "f381cf5d24b160f072f225185fee60e069c3036297c4cd5004a026eb9033355a"
   }
  }
 },
 "nbformat": 4,
 "nbformat_minor": 2
}
