{
 "cells": [
  {
   "cell_type": "code",
   "execution_count": 2,
   "metadata": {},
   "outputs": [],
   "source": [
    "import pandas as pd\n",
    "import numpy as np\n",
    "from numpy import NaN\n",
    "from itertools import chain\n",
    "import json"
   ]
  },
  {
   "cell_type": "code",
   "execution_count": 3,
   "metadata": {},
   "outputs": [],
   "source": [
    "# напрямую с файлами\n",
    "ac = pd.read_csv('results/1С-аналитик.csv', sep=';', encoding='utf-8')\n",
    "ds = pd.read_csv('results/Data Scientist.csv', sep=';', encoding='utf-8')\n",
    "do = pd.read_csv('results/DataOps-инженер.csv', sep=';', encoding='utf-8')\n",
    "ab = pd.read_csv('results/Аналитик BI.csv', sep=';', encoding='utf-8')\n",
    "ad = pd.read_csv('results/Аналитик данных.csv', sep=';', encoding='utf-8')\n",
    "dj = pd.read_csv('results/Дата-журналист.csv', sep=';', encoding='utf-8')\n",
    "de = pd.read_csv('results/Дата-инженер.csv', sep=';', encoding='utf-8')\n",
    "ma = pd.read_csv('results/Маркетинговый аналитик.csv', sep=';', encoding='utf-8')\n",
    "pa = pd.read_csv('results/Продуктовый аналитик.csv', sep=';', encoding='utf-8')\n",
    "sa = pd.read_csv('results/Системный аналитик.csv', sep=';', encoding='utf-8')\n",
    "fa = pd.read_csv('results/Финансовый аналитик.csv', sep=';', encoding='utf-8')\n",
    "ba = pd.read_csv('results/Бизнес-аналитик.csv', sep=';', encoding='utf-8')\n"
   ]
  },
  {
   "cell_type": "code",
   "execution_count": 4,
   "metadata": {},
   "outputs": [
    {
     "data": {
      "text/plain": [
       "(41, 352, 0)"
      ]
     },
     "execution_count": 4,
     "metadata": {},
     "output_type": "execute_result"
    }
   ],
   "source": [
    "len(ac), len(ds), len(dj)"
   ]
  },
  {
   "cell_type": "code",
   "execution_count": 5,
   "metadata": {},
   "outputs": [
    {
     "data": {
      "text/plain": [
       "nan"
      ]
     },
     "execution_count": 5,
     "metadata": {},
     "output_type": "execute_result"
    }
   ],
   "source": [
    "dj.salary_from.median()"
   ]
  },
  {
   "cell_type": "code",
   "execution_count": 7,
   "metadata": {},
   "outputs": [
    {
     "data": {
      "text/html": [
       "<div>\n",
       "<style scoped>\n",
       "    .dataframe tbody tr th:only-of-type {\n",
       "        vertical-align: middle;\n",
       "    }\n",
       "\n",
       "    .dataframe tbody tr th {\n",
       "        vertical-align: top;\n",
       "    }\n",
       "\n",
       "    .dataframe thead th {\n",
       "        text-align: right;\n",
       "    }\n",
       "</style>\n",
       "<table border=\"1\" class=\"dataframe\">\n",
       "  <thead>\n",
       "    <tr style=\"text-align: right;\">\n",
       "      <th></th>\n",
       "      <th>spec</th>\n",
       "      <th>year</th>\n",
       "      <th>month</th>\n",
       "      <th>count</th>\n",
       "    </tr>\n",
       "  </thead>\n",
       "  <tbody>\n",
       "    <tr>\n",
       "      <th>0</th>\n",
       "      <td>1С Аналитик</td>\n",
       "      <td>2020</td>\n",
       "      <td>июл</td>\n",
       "      <td>257</td>\n",
       "    </tr>\n",
       "    <tr>\n",
       "      <th>1</th>\n",
       "      <td>BI Аналитик</td>\n",
       "      <td>2020</td>\n",
       "      <td>июл</td>\n",
       "      <td>110</td>\n",
       "    </tr>\n",
       "    <tr>\n",
       "      <th>2</th>\n",
       "      <td>Бизнес аналитик</td>\n",
       "      <td>2020</td>\n",
       "      <td>июл</td>\n",
       "      <td>824</td>\n",
       "    </tr>\n",
       "    <tr>\n",
       "      <th>3</th>\n",
       "      <td>Аналитик данных</td>\n",
       "      <td>2020</td>\n",
       "      <td>июл</td>\n",
       "      <td>234</td>\n",
       "    </tr>\n",
       "    <tr>\n",
       "      <th>4</th>\n",
       "      <td>Дата инженер</td>\n",
       "      <td>2020</td>\n",
       "      <td>июл</td>\n",
       "      <td>122</td>\n",
       "    </tr>\n",
       "    <tr>\n",
       "      <th>...</th>\n",
       "      <td>...</td>\n",
       "      <td>...</td>\n",
       "      <td>...</td>\n",
       "      <td>...</td>\n",
       "    </tr>\n",
       "    <tr>\n",
       "      <th>439</th>\n",
       "      <td>DataOps инженер</td>\n",
       "      <td>2023</td>\n",
       "      <td>июл</td>\n",
       "      <td>2</td>\n",
       "    </tr>\n",
       "    <tr>\n",
       "      <th>440</th>\n",
       "      <td>Финансовый аналитик</td>\n",
       "      <td>2023</td>\n",
       "      <td>июл</td>\n",
       "      <td>461</td>\n",
       "    </tr>\n",
       "    <tr>\n",
       "      <th>441</th>\n",
       "      <td>Маркетинговый аналитик</td>\n",
       "      <td>2023</td>\n",
       "      <td>июл</td>\n",
       "      <td>339</td>\n",
       "    </tr>\n",
       "    <tr>\n",
       "      <th>442</th>\n",
       "      <td>Продуктовый аналитик</td>\n",
       "      <td>2023</td>\n",
       "      <td>июл</td>\n",
       "      <td>242</td>\n",
       "    </tr>\n",
       "    <tr>\n",
       "      <th>443</th>\n",
       "      <td>Системный аналитик</td>\n",
       "      <td>2023</td>\n",
       "      <td>июл</td>\n",
       "      <td>1777</td>\n",
       "    </tr>\n",
       "  </tbody>\n",
       "</table>\n",
       "<p>444 rows × 4 columns</p>\n",
       "</div>"
      ],
      "text/plain": [
       "                       spec  year month  count\n",
       "0               1С Аналитик  2020   июл    257\n",
       "1               BI Аналитик  2020   июл    110\n",
       "2           Бизнес аналитик  2020   июл    824\n",
       "3           Аналитик данных  2020   июл    234\n",
       "4              Дата инженер  2020   июл    122\n",
       "..                      ...   ...   ...    ...\n",
       "439         DataOps инженер  2023   июл      2\n",
       "440     Финансовый аналитик  2023   июл    461\n",
       "441  Маркетинговый аналитик  2023   июл    339\n",
       "442    Продуктовый аналитик  2023   июл    242\n",
       "443      Системный аналитик  2023   июл   1777\n",
       "\n",
       "[444 rows x 4 columns]"
      ]
     },
     "execution_count": 7,
     "metadata": {},
     "output_type": "execute_result"
    }
   ],
   "source": [
    "df = pd.read_excel('agg_stat.xlsx', sheet_name='count_of_vac')\n",
    "df"
   ]
  },
  {
   "cell_type": "code",
   "execution_count": 68,
   "metadata": {},
   "outputs": [],
   "source": [
    "# добавление меток широта-долгота\n",
    "with open('geo_rus.json', encoding='utf-8') as geo:\n",
    "    cities = json.load(geo)\n",
    "\n",
    "def lat(row):\n",
    "    for el in cities:\n",
    "        if row == el['city']:\n",
    "            return float(el['lat'])\n",
    "        \n",
    "def lon(row):\n",
    "    for el in cities:\n",
    "        if row == el['city']:\n",
    "            return float(el['lon'])\n"
   ]
  },
  {
   "cell_type": "code",
   "execution_count": 69,
   "metadata": {},
   "outputs": [],
   "source": [
    "full = pd.concat([ds, do, ab, ad, dj, de, ma, sa, ac, fa, ba, pa])\n",
    "\n",
    "full['lat'] = full['city'].apply(lat)\n",
    "full['lon'] = full['city'].apply(lon)\n",
    "full = full[['id', 'spec', 'job_title', 'city', 'lat', 'lon', \n",
    "         'employer', 'schedule', 'skills', 'experience', \n",
    "         'published', 'salary_from', 'salary_to', 'currency']]\n",
    "\n",
    "full.to_csv('vacancies.csv', index=False)"
   ]
  },
  {
   "cell_type": "code",
   "execution_count": 70,
   "metadata": {},
   "outputs": [],
   "source": [
    "ac_sk = ['1c|1с', 'agile|scrum|kanban', 'управление', 'erp', 'отчет',\n",
    "         'анализ', 'тз', 'srs', 'моделирование', 'bpmn', 'тестирование',\n",
    "         'документ']\n",
    "\n",
    "ds_sk = ['анализ', 'sheets', 'статистика', 'data studio', 'python', 'sql',\n",
    "         'ml', 'machine learning', 'сбор', 'визуализация', 'исследование',\n",
    "         'нейронные сети', 'нейросети', 'временные ряды', 'алгоритм',\n",
    "         'sklearn', 'tensorflow', 'pytorch','cv', 'gan', 'nlp']\n",
    "\n",
    "de_do_sk = ['sql', 'базы данных', 'etl', 'power bi|powerbi', 'python', \n",
    "            'pandas', 'numpy', 'hadoop', 'mapreduce', 'apache', 'kafka', \n",
    "            'spark', 'airflow', 'clickhouse', 'yandex cloud', 'docker', \n",
    "            'kubernetes', 'ansible', 'gitlab ci', 'mlflow']\n",
    "\n",
    "ab_sk = ['анализ', 'sheets', 'excel', 'статистика', 'визуализация', \n",
    "         'data studio', 'power bi|powerbi', 'pivot', 'datalens', 'tableau',\n",
    "         'сбор', 'sql', 'ssas']\n",
    "\n",
    "ad_sk = ['анализ', 'sheets', 'excel', 'статистика', 'визуализация',\n",
    "         'data studio', 'python', 'jupyter notebook', 'numpy', \n",
    "         'pandas', 'сбор', 'sql', 'ml', 'machine learning', 'hadoop']\n",
    "\n",
    "dj_sk = ['анализ', 'сбор', 'очистка', 'визуализация', 'построение карт', 'сторителлинг',\n",
    "         'python', 'pandas', 'статистика', 'tableau']\n",
    "\n",
    "ma_sk = ['анализ', 'sheets', 'статистика', 'визуализация', 'google looker studio',\n",
    "         'метрики', 'юнит-экономика', 'поиск точек роста', 'RFM-анализ', \n",
    "         'когортный анализ', 'веб-аналитика', 'яндекс метрика', 'google analitics',\n",
    "         'ab', 'sql', 'power bi|powerbi', 'python', 'numpy', 'pandas', 'api']\n",
    "\n",
    "pa_sk = ['анализ', 'юнит-экономика', 'ab', 'sql', 'tableau', 'power bi|powerbi', \n",
    "         'python', 'numpy', 'pandas', 'исследов']\n",
    "\n",
    "sa_sk = ['разработка по', 'agile', 'scrum', 'моделирование бизнес-процессов',\n",
    "         'нотации', 'проектирование', 'сбор', 'описание', 'визуализация',\n",
    "         'прототипирование', 'figma', 'sql', 'rest api', 'soap', 'open api',\n",
    "         'проектная документация', 'cjm', 'тз', 'спецификация', 'SRS', 'bcm']\n",
    "\n",
    "fa_sk = ['1с', 'бухгалтер', 'финансовая', 'анализ', 'управление', 'статистика', \n",
    "         'план-фактный анализ', 'планирование', 'моделирование', 'презентац',\n",
    "         'powerpoint', 'excel', 'визуализация']\n",
    "\n",
    "ba_sk = ['моделирование', 'анализ', 'оптимизация', 'отчетност', 'сбор',\n",
    "         'tableau', 'bi', 'исследовани', 'agile|scrum|kanban', 'тз', 'документ']\n"
   ]
  },
  {
   "attachments": {},
   "cell_type": "markdown",
   "metadata": {},
   "source": [
    "#### 1 / 12 Аналитик данных, подготовка к конкату"
   ]
  },
  {
   "cell_type": "code",
   "execution_count": 71,
   "metadata": {},
   "outputs": [],
   "source": [
    "ad.drop(['job_title', 'city', 'employer', 'schedule',\n",
    "         'published', 'salary_from', 'salary_to', 'currency'], \n",
    "         axis=1, inplace=True)\n",
    "ad.skills.replace(NaN, '-', inplace=True)\n",
    "\n",
    "def chainer(s):\n",
    "    return list(chain.from_iterable(s.str.split(',')))\n",
    "\n",
    "lens = ad.skills.str.split(',').map(len)\n",
    "\n",
    "ad = pd.DataFrame({'id': np.repeat(ad['id'], lens),\n",
    "                    'spec': np.repeat(ad['spec'], lens),\n",
    "                    'experience': np.repeat(ad['experience'], lens),\n",
    "                    'skills': chainer(ad['skills'])})"
   ]
  },
  {
   "cell_type": "code",
   "execution_count": 72,
   "metadata": {},
   "outputs": [
    {
     "name": "stderr",
     "output_type": "stream",
     "text": [
      "C:\\Users\\ePROkhorov\\AppData\\Local\\Temp\\ipykernel_7596\\305332796.py:4: SettingWithCopyWarning: \n",
      "A value is trying to be set on a copy of a slice from a DataFrame\n",
      "\n",
      "See the caveats in the documentation: https://pandas.pydata.org/pandas-docs/stable/user_guide/indexing.html#returning-a-view-versus-a-copy\n",
      "  ad.skills.loc[(ad.skills.str.contains('sql'))] = 'sql'\n",
      "C:\\Users\\ePROkhorov\\AppData\\Local\\Temp\\ipykernel_7596\\305332796.py:5: SettingWithCopyWarning: \n",
      "A value is trying to be set on a copy of a slice from a DataFrame\n",
      "\n",
      "See the caveats in the documentation: https://pandas.pydata.org/pandas-docs/stable/user_guide/indexing.html#returning-a-view-versus-a-copy\n",
      "  ad.skills.loc[(ad.skills.str.contains('excel'))] = 'excel'\n",
      "C:\\Users\\ePROkhorov\\AppData\\Local\\Temp\\ipykernel_7596\\305332796.py:6: SettingWithCopyWarning: \n",
      "A value is trying to be set on a copy of a slice from a DataFrame\n",
      "\n",
      "See the caveats in the documentation: https://pandas.pydata.org/pandas-docs/stable/user_guide/indexing.html#returning-a-view-versus-a-copy\n",
      "  ad.skills.loc[(ad.skills.str.contains('machine learning'))] = 'ml'\n",
      "C:\\Users\\ePROkhorov\\AppData\\Local\\Temp\\ipykernel_7596\\305332796.py:7: SettingWithCopyWarning: \n",
      "A value is trying to be set on a copy of a slice from a DataFrame\n",
      "\n",
      "See the caveats in the documentation: https://pandas.pydata.org/pandas-docs/stable/user_guide/indexing.html#returning-a-view-versus-a-copy\n",
      "  ad.skills.loc[(ad.skills.str.contains('анализ'))] = 'анализ (данных, финансовый, т.д.)'\n"
     ]
    }
   ],
   "source": [
    "ad = ad.loc[ad.skills.str.contains('|'.join(ad_sk))]\n",
    "ad.skills = ad.skills.str.strip()\n",
    "\n",
    "ad.skills.loc[(ad.skills.str.contains('sql'))] = 'sql'\n",
    "ad.skills.loc[(ad.skills.str.contains('excel'))] = 'excel'\n",
    "ad.skills.loc[(ad.skills.str.contains('machine learning'))] = 'ml'\n",
    "ad.skills.loc[(ad.skills.str.contains('анализ'))] = 'анализ (данных, финансовый, т.д.)'"
   ]
  },
  {
   "attachments": {},
   "cell_type": "markdown",
   "metadata": {},
   "source": [
    "#### 2 / 12 Data Scientist, подготовка к конкату"
   ]
  },
  {
   "cell_type": "code",
   "execution_count": 73,
   "metadata": {},
   "outputs": [],
   "source": [
    "ds.drop(['job_title', 'city', 'employer', 'schedule', \n",
    "         'published', 'salary_from', 'salary_to', 'currency'], \n",
    "         axis=1, inplace=True)\n",
    "ds.skills.replace(NaN, '-', inplace=True)\n",
    "\n",
    "def chainer(s):\n",
    "    return list(chain.from_iterable(s.str.split(',')))\n",
    "\n",
    "lens = ds.skills.str.split(',').map(len)\n",
    "\n",
    "ds = pd.DataFrame({'id': np.repeat(ds['id'], lens),\n",
    "                    'spec': np.repeat(ds['spec'], lens),\n",
    "                    'experience': np.repeat(ds['experience'], lens),\n",
    "                    'skills': chainer(ds['skills'])})"
   ]
  },
  {
   "cell_type": "code",
   "execution_count": 74,
   "metadata": {},
   "outputs": [
    {
     "name": "stderr",
     "output_type": "stream",
     "text": [
      "C:\\Users\\ePROkhorov\\AppData\\Local\\Temp\\ipykernel_7596\\1578627545.py:4: SettingWithCopyWarning: \n",
      "A value is trying to be set on a copy of a slice from a DataFrame\n",
      "\n",
      "See the caveats in the documentation: https://pandas.pydata.org/pandas-docs/stable/user_guide/indexing.html#returning-a-view-versus-a-copy\n",
      "  ds.skills.loc[(ds.skills.str.contains('sql'))] = 'sql'\n",
      "C:\\Users\\ePROkhorov\\AppData\\Local\\Temp\\ipykernel_7596\\1578627545.py:5: SettingWithCopyWarning: \n",
      "A value is trying to be set on a copy of a slice from a DataFrame\n",
      "\n",
      "See the caveats in the documentation: https://pandas.pydata.org/pandas-docs/stable/user_guide/indexing.html#returning-a-view-versus-a-copy\n",
      "  ds.skills.loc[(ds.skills.str.contains('excel'))] = 'excel'\n",
      "C:\\Users\\ePROkhorov\\AppData\\Local\\Temp\\ipykernel_7596\\1578627545.py:6: SettingWithCopyWarning: \n",
      "A value is trying to be set on a copy of a slice from a DataFrame\n",
      "\n",
      "See the caveats in the documentation: https://pandas.pydata.org/pandas-docs/stable/user_guide/indexing.html#returning-a-view-versus-a-copy\n",
      "  ds.skills.loc[(ds.skills.str.contains('machine learning'))] = 'ml'\n",
      "C:\\Users\\ePROkhorov\\AppData\\Local\\Temp\\ipykernel_7596\\1578627545.py:7: SettingWithCopyWarning: \n",
      "A value is trying to be set on a copy of a slice from a DataFrame\n",
      "\n",
      "See the caveats in the documentation: https://pandas.pydata.org/pandas-docs/stable/user_guide/indexing.html#returning-a-view-versus-a-copy\n",
      "  ds.skills.loc[(ds.skills.str.contains('ml'))] = 'ml'\n",
      "C:\\Users\\ePROkhorov\\AppData\\Local\\Temp\\ipykernel_7596\\1578627545.py:8: SettingWithCopyWarning: \n",
      "A value is trying to be set on a copy of a slice from a DataFrame\n",
      "\n",
      "See the caveats in the documentation: https://pandas.pydata.org/pandas-docs/stable/user_guide/indexing.html#returning-a-view-versus-a-copy\n",
      "  ds.skills.loc[(ds.skills.str.contains('анализ'))] = 'анализ (данных, финансовый, т.д.)'\n"
     ]
    }
   ],
   "source": [
    "ds = ds.loc[ds.skills.str.contains('|'.join(ds_sk))]\n",
    "ds.skills = ds.skills.str.strip()\n",
    "\n",
    "ds.skills.loc[(ds.skills.str.contains('sql'))] = 'sql'\n",
    "ds.skills.loc[(ds.skills.str.contains('excel'))] = 'excel'\n",
    "ds.skills.loc[(ds.skills.str.contains('machine learning'))] = 'ml'\n",
    "ds.skills.loc[(ds.skills.str.contains('ml'))] = 'ml'\n",
    "ds.skills.loc[(ds.skills.str.contains('анализ'))] = 'анализ (данных, финансовый, т.д.)'"
   ]
  },
  {
   "attachments": {},
   "cell_type": "markdown",
   "metadata": {},
   "source": [
    "#### 3 / 12 Аналитик BI, подготовка к конкату"
   ]
  },
  {
   "cell_type": "code",
   "execution_count": 75,
   "metadata": {},
   "outputs": [],
   "source": [
    "ab.drop(['job_title', 'city', 'employer', 'schedule', \n",
    "         'published', 'salary_from', 'salary_to', 'currency'], \n",
    "         axis=1, inplace=True)\n",
    "ab.skills.replace(NaN, '-', inplace=True)\n",
    "\n",
    "def chainer(s):\n",
    "    return list(chain.from_iterable(s.str.split(',')))\n",
    "\n",
    "lens = ab.skills.str.split(',').map(len)\n",
    "\n",
    "ab = pd.DataFrame({'id': np.repeat(ab['id'], lens),\n",
    "                    'spec': np.repeat(ab['spec'], lens),\n",
    "                    'experience': np.repeat(ab['experience'], lens),\n",
    "                    'skills': chainer(ab['skills'])})"
   ]
  },
  {
   "cell_type": "code",
   "execution_count": 76,
   "metadata": {},
   "outputs": [
    {
     "name": "stderr",
     "output_type": "stream",
     "text": [
      "C:\\Users\\ePROkhorov\\AppData\\Local\\Temp\\ipykernel_7596\\2176825511.py:4: SettingWithCopyWarning: \n",
      "A value is trying to be set on a copy of a slice from a DataFrame\n",
      "\n",
      "See the caveats in the documentation: https://pandas.pydata.org/pandas-docs/stable/user_guide/indexing.html#returning-a-view-versus-a-copy\n",
      "  ab.skills.loc[(ab.skills.str.contains('sql'))] = 'sql'\n",
      "C:\\Users\\ePROkhorov\\AppData\\Local\\Temp\\ipykernel_7596\\2176825511.py:5: SettingWithCopyWarning: \n",
      "A value is trying to be set on a copy of a slice from a DataFrame\n",
      "\n",
      "See the caveats in the documentation: https://pandas.pydata.org/pandas-docs/stable/user_guide/indexing.html#returning-a-view-versus-a-copy\n",
      "  ab.skills.loc[(ab.skills.str.contains('excel'))] = 'excel'\n",
      "C:\\Users\\ePROkhorov\\AppData\\Local\\Temp\\ipykernel_7596\\2176825511.py:6: SettingWithCopyWarning: \n",
      "A value is trying to be set on a copy of a slice from a DataFrame\n",
      "\n",
      "See the caveats in the documentation: https://pandas.pydata.org/pandas-docs/stable/user_guide/indexing.html#returning-a-view-versus-a-copy\n",
      "  ab.skills.loc[(ab.skills.str.contains('bi'))] = 'power bi'\n",
      "C:\\Users\\ePROkhorov\\AppData\\Local\\Temp\\ipykernel_7596\\2176825511.py:7: SettingWithCopyWarning: \n",
      "A value is trying to be set on a copy of a slice from a DataFrame\n",
      "\n",
      "See the caveats in the documentation: https://pandas.pydata.org/pandas-docs/stable/user_guide/indexing.html#returning-a-view-versus-a-copy\n",
      "  ab.skills.loc[(ab.skills.str.contains('pivot'))] = 'pivot'\n",
      "C:\\Users\\ePROkhorov\\AppData\\Local\\Temp\\ipykernel_7596\\2176825511.py:8: SettingWithCopyWarning: \n",
      "A value is trying to be set on a copy of a slice from a DataFrame\n",
      "\n",
      "See the caveats in the documentation: https://pandas.pydata.org/pandas-docs/stable/user_guide/indexing.html#returning-a-view-versus-a-copy\n",
      "  ab.skills.loc[(ab.skills.str.contains('анализ'))] = 'анализ (данных, финансовый, т.д.)'\n"
     ]
    }
   ],
   "source": [
    "ab = ab.loc[ab.skills.str.contains('|'.join(ab_sk))]\n",
    "ab.skills = ab.skills.str.strip()\n",
    "\n",
    "ab.skills.loc[(ab.skills.str.contains('sql'))] = 'sql'\n",
    "ab.skills.loc[(ab.skills.str.contains('excel'))] = 'excel'\n",
    "ab.skills.loc[(ab.skills.str.contains('bi'))] = 'power bi'\n",
    "ab.skills.loc[(ab.skills.str.contains('pivot'))] = 'pivot'\n",
    "ab.skills.loc[(ab.skills.str.contains('анализ'))] = 'анализ (данных, финансовый, т.д.)'"
   ]
  },
  {
   "attachments": {},
   "cell_type": "markdown",
   "metadata": {},
   "source": [
    "#### 4 / 12 Системный аналитик, подготовка к конкату"
   ]
  },
  {
   "cell_type": "code",
   "execution_count": 77,
   "metadata": {},
   "outputs": [],
   "source": [
    "sa.drop(['job_title', 'city', 'employer', 'schedule',\n",
    "         'published', 'salary_from', 'salary_to', 'currency'], \n",
    "         axis=1, inplace=True)\n",
    "sa.skills.replace(NaN, '-', inplace=True)\n",
    "\n",
    "def chainer(s):\n",
    "    return list(chain.from_iterable(s.str.split(',')))\n",
    "\n",
    "lens = sa.skills.str.split(',').map(len)\n",
    "\n",
    "sa = pd.DataFrame({'id': np.repeat(sa['id'], lens),\n",
    "                    'spec': np.repeat(sa['spec'], lens),\n",
    "                    'experience': np.repeat(sa['experience'], lens),\n",
    "                    'skills': chainer(sa['skills'])})"
   ]
  },
  {
   "cell_type": "code",
   "execution_count": 78,
   "metadata": {},
   "outputs": [
    {
     "name": "stderr",
     "output_type": "stream",
     "text": [
      "C:\\Users\\ePROkhorov\\AppData\\Local\\Temp\\ipykernel_7596\\612873615.py:4: SettingWithCopyWarning: \n",
      "A value is trying to be set on a copy of a slice from a DataFrame\n",
      "\n",
      "See the caveats in the documentation: https://pandas.pydata.org/pandas-docs/stable/user_guide/indexing.html#returning-a-view-versus-a-copy\n",
      "  sa.skills.loc[(sa.skills.str.contains('sql'))] = 'sql'\n",
      "C:\\Users\\ePROkhorov\\AppData\\Local\\Temp\\ipykernel_7596\\612873615.py:5: SettingWithCopyWarning: \n",
      "A value is trying to be set on a copy of a slice from a DataFrame\n",
      "\n",
      "See the caveats in the documentation: https://pandas.pydata.org/pandas-docs/stable/user_guide/indexing.html#returning-a-view-versus-a-copy\n",
      "  sa.skills.loc[(sa.skills.str.contains('agile'))] = 'agile'\n",
      "C:\\Users\\ePROkhorov\\AppData\\Local\\Temp\\ipykernel_7596\\612873615.py:6: SettingWithCopyWarning: \n",
      "A value is trying to be set on a copy of a slice from a DataFrame\n",
      "\n",
      "See the caveats in the documentation: https://pandas.pydata.org/pandas-docs/stable/user_guide/indexing.html#returning-a-view-versus-a-copy\n",
      "  sa.skills.loc[(sa.skills.str.contains('тз'))] = 'написание тз'\n",
      "C:\\Users\\ePROkhorov\\AppData\\Local\\Temp\\ipykernel_7596\\612873615.py:7: SettingWithCopyWarning: \n",
      "A value is trying to be set on a copy of a slice from a DataFrame\n",
      "\n",
      "See the caveats in the documentation: https://pandas.pydata.org/pandas-docs/stable/user_guide/indexing.html#returning-a-view-versus-a-copy\n",
      "  sa.skills.loc[(sa.skills.str.contains('soap'))] = 'soap'\n",
      "C:\\Users\\ePROkhorov\\AppData\\Local\\Temp\\ipykernel_7596\\612873615.py:8: SettingWithCopyWarning: \n",
      "A value is trying to be set on a copy of a slice from a DataFrame\n",
      "\n",
      "See the caveats in the documentation: https://pandas.pydata.org/pandas-docs/stable/user_guide/indexing.html#returning-a-view-versus-a-copy\n",
      "  sa.skills.loc[(sa.skills.str.contains('моделирование | проектирование'))] = 'проектирование (интерфейсов, api, т.д.)'\n",
      "C:\\Users\\ePROkhorov\\AppData\\Local\\Temp\\ipykernel_7596\\612873615.py:9: SettingWithCopyWarning: \n",
      "A value is trying to be set on a copy of a slice from a DataFrame\n",
      "\n",
      "See the caveats in the documentation: https://pandas.pydata.org/pandas-docs/stable/user_guide/indexing.html#returning-a-view-versus-a-copy\n",
      "  sa.skills.loc[(sa.skills.str.contains('сбор требований'))] = 'сбор требований'\n"
     ]
    }
   ],
   "source": [
    "sa = sa.loc[sa.skills.str.contains('|'.join(sa_sk))]\n",
    "sa.skills = sa.skills.str.strip()\n",
    "\n",
    "sa.skills.loc[(sa.skills.str.contains('sql'))] = 'sql'\n",
    "sa.skills.loc[(sa.skills.str.contains('agile'))] = 'agile'\n",
    "sa.skills.loc[(sa.skills.str.contains('тз'))] = 'написание тз'\n",
    "sa.skills.loc[(sa.skills.str.contains('soap'))] = 'soap'\n",
    "sa.skills.loc[(sa.skills.str.contains('моделирование | проектирование'))] = 'проектирование (интерфейсов, api, т.д.)'\n",
    "sa.skills.loc[(sa.skills.str.contains('сбор требований'))] = 'сбор требований'"
   ]
  },
  {
   "attachments": {},
   "cell_type": "markdown",
   "metadata": {},
   "source": [
    "#### 5 / 12 Маркетинговый аналитик, подготовка к конкату"
   ]
  },
  {
   "cell_type": "code",
   "execution_count": 79,
   "metadata": {},
   "outputs": [],
   "source": [
    "ma.drop(['job_title', 'city', 'employer', 'schedule',\n",
    "         'published', 'salary_from', 'salary_to', 'currency'], \n",
    "         axis=1, inplace=True)\n",
    "ma.skills.replace(NaN, '-', inplace=True)\n",
    "\n",
    "def chainer(s):\n",
    "    return list(chain.from_iterable(s.str.split(',')))\n",
    "\n",
    "lens = ma.skills.str.split(',').map(len)\n",
    "\n",
    "ma = pd.DataFrame({'id': np.repeat(ma['id'], lens),\n",
    "                    'spec': np.repeat(ma['spec'], lens),\n",
    "                    'experience': np.repeat(ma['experience'], lens),\n",
    "                    'skills': chainer(ma['skills'])})"
   ]
  },
  {
   "cell_type": "code",
   "execution_count": 80,
   "metadata": {},
   "outputs": [
    {
     "name": "stderr",
     "output_type": "stream",
     "text": [
      "C:\\Users\\ePROkhorov\\AppData\\Local\\Temp\\ipykernel_7596\\2178645679.py:4: SettingWithCopyWarning: \n",
      "A value is trying to be set on a copy of a slice from a DataFrame\n",
      "\n",
      "See the caveats in the documentation: https://pandas.pydata.org/pandas-docs/stable/user_guide/indexing.html#returning-a-view-versus-a-copy\n",
      "  ma.skills.loc[(ma.skills.str.contains('анализ'))] = 'анализ (данных, финансовый, т.д.)'\n",
      "C:\\Users\\ePROkhorov\\AppData\\Local\\Temp\\ipykernel_7596\\2178645679.py:5: SettingWithCopyWarning: \n",
      "A value is trying to be set on a copy of a slice from a DataFrame\n",
      "\n",
      "See the caveats in the documentation: https://pandas.pydata.org/pandas-docs/stable/user_guide/indexing.html#returning-a-view-versus-a-copy\n",
      "  ma.skills.loc[(ma.skills.str.contains('sql'))] = 'sql'\n",
      "C:\\Users\\ePROkhorov\\AppData\\Local\\Temp\\ipykernel_7596\\2178645679.py:6: SettingWithCopyWarning: \n",
      "A value is trying to be set on a copy of a slice from a DataFrame\n",
      "\n",
      "See the caveats in the documentation: https://pandas.pydata.org/pandas-docs/stable/user_guide/indexing.html#returning-a-view-versus-a-copy\n",
      "  ma.skills.loc[(ma.skills.str.contains('статистика'))] = 'статистика'\n"
     ]
    }
   ],
   "source": [
    "ma = ma.loc[ma.skills.str.contains('|'.join(ma_sk))]\n",
    "ma.skills = ma.skills.str.strip()\n",
    "\n",
    "ma.skills.loc[(ma.skills.str.contains('анализ'))] = 'анализ (данных, финансовый, т.д.)'\n",
    "ma.skills.loc[(ma.skills.str.contains('sql'))] = 'sql'\n",
    "ma.skills.loc[(ma.skills.str.contains('статистика'))] = 'статистика'"
   ]
  },
  {
   "attachments": {},
   "cell_type": "markdown",
   "metadata": {},
   "source": [
    "#### 6 / 12 Дата-журналист, подготовка к конкату"
   ]
  },
  {
   "cell_type": "code",
   "execution_count": 81,
   "metadata": {},
   "outputs": [],
   "source": [
    "dj.drop(['job_title', 'city', 'employer', 'schedule',\n",
    "         'published', 'salary_from', 'salary_to', 'currency'], \n",
    "         axis=1, inplace=True)\n",
    "dj.skills.replace(NaN, '-', inplace=True)\n",
    "\n",
    "def chainer(s):\n",
    "    return list(chain.from_iterable(s.str.split(',')))\n",
    "\n",
    "lens = dj.skills.str.split(',').map(len)\n",
    "\n",
    "dj = pd.DataFrame({'id': np.repeat(dj['id'], lens),\n",
    "                    'spec': np.repeat(dj['spec'], lens),\n",
    "                    'experience': np.repeat(dj['experience'], lens),\n",
    "                    'skills': chainer(dj['skills'])})"
   ]
  },
  {
   "cell_type": "code",
   "execution_count": 82,
   "metadata": {},
   "outputs": [
    {
     "name": "stderr",
     "output_type": "stream",
     "text": [
      "C:\\Users\\ePROkhorov\\AppData\\Local\\Temp\\ipykernel_7596\\1462068179.py:5: SettingWithCopyWarning: \n",
      "A value is trying to be set on a copy of a slice from a DataFrame\n",
      "\n",
      "See the caveats in the documentation: https://pandas.pydata.org/pandas-docs/stable/user_guide/indexing.html#returning-a-view-versus-a-copy\n",
      "  dj.skills.loc[(dj.skills.str.contains('сбор'))] = 'сбор данных'\n",
      "C:\\Users\\ePROkhorov\\AppData\\Local\\Temp\\ipykernel_7596\\1462068179.py:6: SettingWithCopyWarning: \n",
      "A value is trying to be set on a copy of a slice from a DataFrame\n",
      "\n",
      "See the caveats in the documentation: https://pandas.pydata.org/pandas-docs/stable/user_guide/indexing.html#returning-a-view-versus-a-copy\n",
      "  dj.skills.loc[(dj.skills.str.contains('визуализация'))] = 'визуализация данных'\n",
      "C:\\Users\\ePROkhorov\\AppData\\Local\\Temp\\ipykernel_7596\\1462068179.py:7: SettingWithCopyWarning: \n",
      "A value is trying to be set on a copy of a slice from a DataFrame\n",
      "\n",
      "See the caveats in the documentation: https://pandas.pydata.org/pandas-docs/stable/user_guide/indexing.html#returning-a-view-versus-a-copy\n",
      "  dj.skills.loc[(dj.skills.str.contains('storytelling'))] = 'сторителлинг'\n",
      "C:\\Users\\ePROkhorov\\AppData\\Local\\Temp\\ipykernel_7596\\1462068179.py:8: SettingWithCopyWarning: \n",
      "A value is trying to be set on a copy of a slice from a DataFrame\n",
      "\n",
      "See the caveats in the documentation: https://pandas.pydata.org/pandas-docs/stable/user_guide/indexing.html#returning-a-view-versus-a-copy\n",
      "  dj.skills.loc[(dj.skills.str.contains('story telling'))] = 'сторителлинг'\n"
     ]
    }
   ],
   "source": [
    "dj = dj.loc[dj.skills.str.contains('|'.join(dj_sk))]\n",
    "dj.skills = dj.skills.str.strip()\n",
    "\n",
    "dj.skills.loc[(dj.skills.str.contains('анализ'))] = 'анализ (данных, финансовый, т.д.)'\n",
    "dj.skills.loc[(dj.skills.str.contains('сбор'))] = 'сбор данных'\n",
    "dj.skills.loc[(dj.skills.str.contains('визуализация'))] = 'визуализация данных'\n",
    "dj.skills.loc[(dj.skills.str.contains('storytelling'))] = 'сторителлинг'\n",
    "dj.skills.loc[(dj.skills.str.contains('story telling'))] = 'сторителлинг'"
   ]
  },
  {
   "attachments": {},
   "cell_type": "markdown",
   "metadata": {},
   "source": [
    "#### 7-8 / 12 Дата-инженер | DataOps-инженер, подготовка к конкату"
   ]
  },
  {
   "cell_type": "code",
   "execution_count": 83,
   "metadata": {},
   "outputs": [],
   "source": [
    "#DataOps\n",
    "do.drop(['job_title', 'city', 'employer', 'schedule',\n",
    "         'published', 'salary_from', 'salary_to', 'currency'], \n",
    "         axis=1, inplace=True)\n",
    "do.skills.replace(NaN, '-', inplace=True)\n",
    "\n",
    "def chainer(s):\n",
    "    return list(chain.from_iterable(s.str.split(',')))\n",
    "\n",
    "lens = do.skills.str.split(',').map(len)\n",
    "\n",
    "do = pd.DataFrame({'id': np.repeat(do['id'], lens),\n",
    "                    'spec': np.repeat(do['spec'], lens),\n",
    "                    'experience': np.repeat(do['experience'], lens),\n",
    "                    'skills': chainer(do['skills'])})"
   ]
  },
  {
   "cell_type": "code",
   "execution_count": 84,
   "metadata": {},
   "outputs": [
    {
     "data": {
      "text/plain": [
       "array(['python', 'docker', 'clickhouse', 'airflow', 'kubernetes', 'kafka',\n",
       "       'nosql', 'hadoop', 'postgresql', 'spark'], dtype=object)"
      ]
     },
     "execution_count": 84,
     "metadata": {},
     "output_type": "execute_result"
    }
   ],
   "source": [
    "do = do.loc[do.skills.str.contains('|'.join(de_do_sk))]\n",
    "do.skills = do.skills.str.strip()\n",
    "\n",
    "do.skills.unique()\n",
    "\n",
    "# do.skills.loc[(do.skills.str.contains('...'))] = '...'\n",
    "# do.skills.loc[(do.skills.str.contains('...'))] = '...'"
   ]
  },
  {
   "cell_type": "code",
   "execution_count": 85,
   "metadata": {},
   "outputs": [],
   "source": [
    "# дата-инженер\n",
    "de.drop(['job_title', 'city', 'employer', 'schedule',\n",
    "         'published', 'salary_from', 'salary_to', 'currency'], \n",
    "         axis=1, inplace=True)\n",
    "de.skills.replace(NaN, '-', inplace=True)\n",
    "\n",
    "def chainer(s):\n",
    "    return list(chain.from_iterable(s.str.split(',')))\n",
    "\n",
    "lens = de.skills.str.split(',').map(len)\n",
    "\n",
    "de = pd.DataFrame({'id': np.repeat(de['id'], lens),\n",
    "                    'spec': np.repeat(de['spec'], lens),\n",
    "                    'experience': np.repeat(de['experience'], lens),\n",
    "                    'skills': chainer(de['skills'])})"
   ]
  },
  {
   "cell_type": "code",
   "execution_count": 86,
   "metadata": {},
   "outputs": [
    {
     "name": "stderr",
     "output_type": "stream",
     "text": [
      "C:\\Users\\ePROkhorov\\AppData\\Local\\Temp\\ipykernel_7596\\2133699111.py:4: SettingWithCopyWarning: \n",
      "A value is trying to be set on a copy of a slice from a DataFrame\n",
      "\n",
      "See the caveats in the documentation: https://pandas.pydata.org/pandas-docs/stable/user_guide/indexing.html#returning-a-view-versus-a-copy\n",
      "  de.skills.loc[(de.skills.str.contains('sql'))] = 'sql'\n",
      "C:\\Users\\ePROkhorov\\AppData\\Local\\Temp\\ipykernel_7596\\2133699111.py:5: SettingWithCopyWarning: \n",
      "A value is trying to be set on a copy of a slice from a DataFrame\n",
      "\n",
      "See the caveats in the documentation: https://pandas.pydata.org/pandas-docs/stable/user_guide/indexing.html#returning-a-view-versus-a-copy\n",
      "  de.skills.loc[(de.skills.str.contains('bi'))] = 'power bi'\n",
      "C:\\Users\\ePROkhorov\\AppData\\Local\\Temp\\ipykernel_7596\\2133699111.py:6: SettingWithCopyWarning: \n",
      "A value is trying to be set on a copy of a slice from a DataFrame\n",
      "\n",
      "See the caveats in the documentation: https://pandas.pydata.org/pandas-docs/stable/user_guide/indexing.html#returning-a-view-versus-a-copy\n",
      "  de.skills.loc[(de.skills.str.contains('airflow'))] = 'airflow'\n",
      "C:\\Users\\ePROkhorov\\AppData\\Local\\Temp\\ipykernel_7596\\2133699111.py:7: SettingWithCopyWarning: \n",
      "A value is trying to be set on a copy of a slice from a DataFrame\n",
      "\n",
      "See the caveats in the documentation: https://pandas.pydata.org/pandas-docs/stable/user_guide/indexing.html#returning-a-view-versus-a-copy\n",
      "  de.skills.loc[(de.skills.str.contains('nifi|ni-fi'))] = 'nifi'\n"
     ]
    }
   ],
   "source": [
    "de = de.loc[de.skills.str.contains('|'.join(de_do_sk))]\n",
    "de.skills = de.skills.str.strip()\n",
    "\n",
    "de.skills.loc[(de.skills.str.contains('sql'))] = 'sql'\n",
    "de.skills.loc[(de.skills.str.contains('bi'))] = 'power bi'\n",
    "de.skills.loc[(de.skills.str.contains('airflow'))] = 'airflow'\n",
    "de.skills.loc[(de.skills.str.contains('nifi|ni-fi'))] = 'nifi'"
   ]
  },
  {
   "attachments": {},
   "cell_type": "markdown",
   "metadata": {},
   "source": [
    "#### 9 / 12 Финансовый аналитик, подготовка к конкату"
   ]
  },
  {
   "cell_type": "code",
   "execution_count": 87,
   "metadata": {},
   "outputs": [],
   "source": [
    "fa.drop(['job_title', 'city', 'employer', 'schedule',\n",
    "         'published', 'salary_from', 'salary_to', 'currency'], \n",
    "         axis=1, inplace=True)\n",
    "fa.skills.replace(NaN, '-', inplace=True)\n",
    "\n",
    "def chainer(s):\n",
    "    return list(chain.from_iterable(s.str.split(',')))\n",
    "\n",
    "lens = fa.skills.str.split(',').map(len)\n",
    "\n",
    "fa = pd.DataFrame({'id': np.repeat(fa['id'], lens),\n",
    "                    'spec': np.repeat(fa['spec'], lens),\n",
    "                    'experience': np.repeat(fa['experience'], lens),\n",
    "                    'skills': chainer(fa['skills'])})"
   ]
  },
  {
   "cell_type": "code",
   "execution_count": 88,
   "metadata": {},
   "outputs": [
    {
     "name": "stderr",
     "output_type": "stream",
     "text": [
      "C:\\Users\\ePROkhorov\\AppData\\Local\\Temp\\ipykernel_7596\\1556562988.py:4: SettingWithCopyWarning: \n",
      "A value is trying to be set on a copy of a slice from a DataFrame\n",
      "\n",
      "See the caveats in the documentation: https://pandas.pydata.org/pandas-docs/stable/user_guide/indexing.html#returning-a-view-versus-a-copy\n",
      "  fa.skills.loc[(fa.skills.str.contains('1с|1c'))] = '1с (предприятие, бухгалтерия)'\n",
      "C:\\Users\\ePROkhorov\\AppData\\Local\\Temp\\ipykernel_7596\\1556562988.py:5: SettingWithCopyWarning: \n",
      "A value is trying to be set on a copy of a slice from a DataFrame\n",
      "\n",
      "See the caveats in the documentation: https://pandas.pydata.org/pandas-docs/stable/user_guide/indexing.html#returning-a-view-versus-a-copy\n",
      "  fa.skills.loc[(fa.skills.str.contains('excel'))] = 'excel'\n",
      "C:\\Users\\ePROkhorov\\AppData\\Local\\Temp\\ipykernel_7596\\1556562988.py:6: SettingWithCopyWarning: \n",
      "A value is trying to be set on a copy of a slice from a DataFrame\n",
      "\n",
      "See the caveats in the documentation: https://pandas.pydata.org/pandas-docs/stable/user_guide/indexing.html#returning-a-view-versus-a-copy\n",
      "  fa.skills.loc[(fa.skills.str.contains('powerpoint|презент'))] = 'powerpoint'\n",
      "C:\\Users\\ePROkhorov\\AppData\\Local\\Temp\\ipykernel_7596\\1556562988.py:7: SettingWithCopyWarning: \n",
      "A value is trying to be set on a copy of a slice from a DataFrame\n",
      "\n",
      "See the caveats in the documentation: https://pandas.pydata.org/pandas-docs/stable/user_guide/indexing.html#returning-a-view-versus-a-copy\n",
      "  fa.skills.loc[(fa.skills.str.contains('анали'))] = 'анализ (данных, финансовый, т.д.)'\n",
      "C:\\Users\\ePROkhorov\\AppData\\Local\\Temp\\ipykernel_7596\\1556562988.py:8: SettingWithCopyWarning: \n",
      "A value is trying to be set on a copy of a slice from a DataFrame\n",
      "\n",
      "See the caveats in the documentation: https://pandas.pydata.org/pandas-docs/stable/user_guide/indexing.html#returning-a-view-versus-a-copy\n",
      "  fa.skills.loc[(fa.skills.str.contains('управление'))] = 'управление (рисками, затратами, т.д.)'\n",
      "C:\\Users\\ePROkhorov\\AppData\\Local\\Temp\\ipykernel_7596\\1556562988.py:9: SettingWithCopyWarning: \n",
      "A value is trying to be set on a copy of a slice from a DataFrame\n",
      "\n",
      "See the caveats in the documentation: https://pandas.pydata.org/pandas-docs/stable/user_guide/indexing.html#returning-a-view-versus-a-copy\n",
      "  fa.skills.loc[(fa.skills.str.contains('планирование'))] = 'планирование (финансовое, инвестиционное, т.д.)'\n",
      "C:\\Users\\ePROkhorov\\AppData\\Local\\Temp\\ipykernel_7596\\1556562988.py:10: SettingWithCopyWarning: \n",
      "A value is trying to be set on a copy of a slice from a DataFrame\n",
      "\n",
      "See the caveats in the documentation: https://pandas.pydata.org/pandas-docs/stable/user_guide/indexing.html#returning-a-view-versus-a-copy\n",
      "  fa.skills.loc[(fa.skills.str.contains('моделирование'))] = 'моделирование (финансовое, экономическое, т.д.)'\n",
      "C:\\Users\\ePROkhorov\\AppData\\Local\\Temp\\ipykernel_7596\\1556562988.py:11: SettingWithCopyWarning: \n",
      "A value is trying to be set on a copy of a slice from a DataFrame\n",
      "\n",
      "See the caveats in the documentation: https://pandas.pydata.org/pandas-docs/stable/user_guide/indexing.html#returning-a-view-versus-a-copy\n",
      "  fa.skills.loc[(fa.skills.str.contains('бухгал'))] = 'бухучёт'\n",
      "C:\\Users\\ePROkhorov\\AppData\\Local\\Temp\\ipykernel_7596\\1556562988.py:12: SettingWithCopyWarning: \n",
      "A value is trying to be set on a copy of a slice from a DataFrame\n",
      "\n",
      "See the caveats in the documentation: https://pandas.pydata.org/pandas-docs/stable/user_guide/indexing.html#returning-a-view-versus-a-copy\n",
      "  fa.skills.loc[(fa.skills.str.contains('статистика'))] = 'статистика'\n",
      "C:\\Users\\ePROkhorov\\AppData\\Local\\Temp\\ipykernel_7596\\1556562988.py:13: SettingWithCopyWarning: \n",
      "A value is trying to be set on a copy of a slice from a DataFrame\n",
      "\n",
      "See the caveats in the documentation: https://pandas.pydata.org/pandas-docs/stable/user_guide/indexing.html#returning-a-view-versus-a-copy\n",
      "  fa.skills.loc[(fa.skills.str.contains('визуализация'))] = 'визуализация'\n"
     ]
    }
   ],
   "source": [
    "fa = fa.loc[fa.skills.str.contains('|'.join(fa_sk))]\n",
    "fa.skills = fa.skills.str.strip()\n",
    "\n",
    "fa.skills.loc[(fa.skills.str.contains('1с|1c'))] = '1с (предприятие, бухгалтерия)'\n",
    "fa.skills.loc[(fa.skills.str.contains('excel'))] = 'excel'\n",
    "fa.skills.loc[(fa.skills.str.contains('powerpoint|презент'))] = 'powerpoint'\n",
    "fa.skills.loc[(fa.skills.str.contains('анали'))] = 'анализ (данных, финансовый, т.д.)'\n",
    "fa.skills.loc[(fa.skills.str.contains('управление'))] = 'управление (рисками, затратами, т.д.)'\n",
    "fa.skills.loc[(fa.skills.str.contains('планирование'))] = 'планирование (финансовое, инвестиционное, т.д.)'\n",
    "fa.skills.loc[(fa.skills.str.contains('моделирование'))] = 'моделирование (финансовое, экономическое, т.д.)'\n",
    "fa.skills.loc[(fa.skills.str.contains('бухгал'))] = 'бухучёт'\n",
    "fa.skills.loc[(fa.skills.str.contains('статистика'))] = 'статистика'\n",
    "fa.skills.loc[(fa.skills.str.contains('визуализация'))] = 'визуализация'"
   ]
  },
  {
   "attachments": {},
   "cell_type": "markdown",
   "metadata": {},
   "source": [
    "#### 10 / 12 1С-аналитик, подготовка к конкату"
   ]
  },
  {
   "cell_type": "code",
   "execution_count": 89,
   "metadata": {},
   "outputs": [],
   "source": [
    "ac.drop(['job_title', 'city', 'employer', 'schedule',\n",
    "         'published', 'salary_from', 'salary_to', 'currency'], \n",
    "         axis=1, inplace=True)\n",
    "ac.skills.replace(NaN, '-', inplace=True)\n",
    "\n",
    "def chainer(s):\n",
    "    return list(chain.from_iterable(s.str.split(',')))\n",
    "\n",
    "lens = ac.skills.str.split(',').map(len)\n",
    "\n",
    "ac = pd.DataFrame({'id': np.repeat(ac['id'], lens),\n",
    "                    'spec': np.repeat(ac['spec'], lens),\n",
    "                    'experience': np.repeat(ac['experience'], lens),\n",
    "                    'skills': chainer(ac['skills'])})"
   ]
  },
  {
   "cell_type": "code",
   "execution_count": 90,
   "metadata": {},
   "outputs": [
    {
     "name": "stderr",
     "output_type": "stream",
     "text": [
      "C:\\Users\\ePROkhorov\\AppData\\Local\\Temp\\ipykernel_7596\\2027964254.py:4: SettingWithCopyWarning: \n",
      "A value is trying to be set on a copy of a slice from a DataFrame\n",
      "\n",
      "See the caveats in the documentation: https://pandas.pydata.org/pandas-docs/stable/user_guide/indexing.html#returning-a-view-versus-a-copy\n",
      "  ac.skills.loc[(ac.skills.str.contains('1с|1c'))] = '1с (предприятие, бухгалтерия)'\n",
      "C:\\Users\\ePROkhorov\\AppData\\Local\\Temp\\ipykernel_7596\\2027964254.py:5: SettingWithCopyWarning: \n",
      "A value is trying to be set on a copy of a slice from a DataFrame\n",
      "\n",
      "See the caveats in the documentation: https://pandas.pydata.org/pandas-docs/stable/user_guide/indexing.html#returning-a-view-versus-a-copy\n",
      "  ac.skills.loc[(ac.skills.str.contains('отчетность'))] = 'отчетность (налоговая, бухгалтерская)'\n",
      "C:\\Users\\ePROkhorov\\AppData\\Local\\Temp\\ipykernel_7596\\2027964254.py:6: SettingWithCopyWarning: \n",
      "A value is trying to be set on a copy of a slice from a DataFrame\n",
      "\n",
      "See the caveats in the documentation: https://pandas.pydata.org/pandas-docs/stable/user_guide/indexing.html#returning-a-view-versus-a-copy\n",
      "  ac.skills.loc[(ac.skills.str.contains('powerpoint'))] = 'powerpoint'\n",
      "C:\\Users\\ePROkhorov\\AppData\\Local\\Temp\\ipykernel_7596\\2027964254.py:7: SettingWithCopyWarning: \n",
      "A value is trying to be set on a copy of a slice from a DataFrame\n",
      "\n",
      "See the caveats in the documentation: https://pandas.pydata.org/pandas-docs/stable/user_guide/indexing.html#returning-a-view-versus-a-copy\n",
      "  ac.skills.loc[(ac.skills.str.contains('документ'))] = 'проектная документация'\n"
     ]
    }
   ],
   "source": [
    "ac = ac.loc[ac.skills.str.contains('|'.join(ac_sk))]\n",
    "ac.skills = ac.skills.str.strip()\n",
    "\n",
    "ac.skills.loc[(ac.skills.str.contains('1с|1c'))] = '1с (предприятие, бухгалтерия)'\n",
    "ac.skills.loc[(ac.skills.str.contains('отчетность'))] = 'отчетность (налоговая, бухгалтерская)'\n",
    "ac.skills.loc[(ac.skills.str.contains('powerpoint'))] = 'powerpoint'\n",
    "ac.skills.loc[(ac.skills.str.contains('документ'))] = 'проектная документация'"
   ]
  },
  {
   "attachments": {},
   "cell_type": "markdown",
   "metadata": {},
   "source": [
    "#### 11 / 12 Продуктовый аналитик, подготовка к конкату"
   ]
  },
  {
   "cell_type": "code",
   "execution_count": 91,
   "metadata": {},
   "outputs": [],
   "source": [
    "pa.drop(['job_title', 'city', 'employer', 'schedule',\n",
    "         'published', 'salary_from', 'salary_to', 'currency'], \n",
    "         axis=1, inplace=True)\n",
    "pa.skills.replace(NaN, '-', inplace=True)\n",
    "\n",
    "def chainer(s):\n",
    "    return list(chain.from_iterable(s.str.split(',')))\n",
    "\n",
    "lens = pa.skills.str.split(',').map(len)\n",
    "\n",
    "pa = pd.DataFrame({'id': np.repeat(pa['id'], lens),\n",
    "                    'spec': np.repeat(pa['spec'], lens),\n",
    "                    'experience': np.repeat(pa['experience'], lens),\n",
    "                    'skills': chainer(pa['skills'])})"
   ]
  },
  {
   "cell_type": "code",
   "execution_count": 92,
   "metadata": {},
   "outputs": [
    {
     "name": "stderr",
     "output_type": "stream",
     "text": [
      "C:\\Users\\ePROkhorov\\AppData\\Local\\Temp\\ipykernel_7596\\3460951086.py:4: SettingWithCopyWarning: \n",
      "A value is trying to be set on a copy of a slice from a DataFrame\n",
      "\n",
      "See the caveats in the documentation: https://pandas.pydata.org/pandas-docs/stable/user_guide/indexing.html#returning-a-view-versus-a-copy\n",
      "  pa.skills.loc[(pa.skills.str.contains('sql'))] = 'sql'\n",
      "C:\\Users\\ePROkhorov\\AppData\\Local\\Temp\\ipykernel_7596\\3460951086.py:5: SettingWithCopyWarning: \n",
      "A value is trying to be set on a copy of a slice from a DataFrame\n",
      "\n",
      "See the caveats in the documentation: https://pandas.pydata.org/pandas-docs/stable/user_guide/indexing.html#returning-a-view-versus-a-copy\n",
      "  pa.skills.loc[(pa.skills.str.contains('анализ|analys'))] = 'анализ (данных, финансовый, т.д.)'\n",
      "C:\\Users\\ePROkhorov\\AppData\\Local\\Temp\\ipykernel_7596\\3460951086.py:6: SettingWithCopyWarning: \n",
      "A value is trying to be set on a copy of a slice from a DataFrame\n",
      "\n",
      "See the caveats in the documentation: https://pandas.pydata.org/pandas-docs/stable/user_guide/indexing.html#returning-a-view-versus-a-copy\n",
      "  pa.skills.loc[(pa.skills.str.contains('bi'))] = 'power bi'\n",
      "C:\\Users\\ePROkhorov\\AppData\\Local\\Temp\\ipykernel_7596\\3460951086.py:7: SettingWithCopyWarning: \n",
      "A value is trying to be set on a copy of a slice from a DataFrame\n",
      "\n",
      "See the caveats in the documentation: https://pandas.pydata.org/pandas-docs/stable/user_guide/indexing.html#returning-a-view-versus-a-copy\n",
      "  pa.skills.loc[(pa.skills.str.contains('исследов'))] = 'проведение исследований'\n"
     ]
    }
   ],
   "source": [
    "pa = pa.loc[pa.skills.str.contains('|'.join(pa_sk))]\n",
    "pa.skills = pa.skills.str.strip()\n",
    "\n",
    "pa.skills.loc[(pa.skills.str.contains('sql'))] = 'sql'\n",
    "pa.skills.loc[(pa.skills.str.contains('анализ|analys'))] = 'анализ (данных, финансовый, т.д.)'\n",
    "pa.skills.loc[(pa.skills.str.contains('bi'))] = 'power bi'\n",
    "pa.skills.loc[(pa.skills.str.contains('исследов'))] = 'проведение исследований'"
   ]
  },
  {
   "attachments": {},
   "cell_type": "markdown",
   "metadata": {},
   "source": [
    "#### 12 / 12 Бизнес-аналитик, подготовка к конкату"
   ]
  },
  {
   "cell_type": "code",
   "execution_count": 93,
   "metadata": {},
   "outputs": [],
   "source": [
    "ba.drop(['job_title', 'city', 'employer', 'schedule',\n",
    "         'published', 'salary_from', 'salary_to', 'currency'], \n",
    "         axis=1, inplace=True)\n",
    "ba.skills.replace(NaN, '-', inplace=True)\n",
    "\n",
    "def chainer(s):\n",
    "    return list(chain.from_iterable(s.str.split(',')))\n",
    "\n",
    "lens = ba.skills.str.split(',').map(len)\n",
    "\n",
    "ba = pd.DataFrame({'id': np.repeat(ba['id'], lens),\n",
    "                    'spec': np.repeat(ba['spec'], lens),\n",
    "                    'experience': np.repeat(ba['experience'], lens),\n",
    "                    'skills': chainer(ba['skills'])})"
   ]
  },
  {
   "cell_type": "code",
   "execution_count": 94,
   "metadata": {},
   "outputs": [
    {
     "name": "stderr",
     "output_type": "stream",
     "text": [
      "C:\\Users\\ePROkhorov\\AppData\\Local\\Temp\\ipykernel_7596\\4232367032.py:4: SettingWithCopyWarning: \n",
      "A value is trying to be set on a copy of a slice from a DataFrame\n",
      "\n",
      "See the caveats in the documentation: https://pandas.pydata.org/pandas-docs/stable/user_guide/indexing.html#returning-a-view-versus-a-copy\n",
      "  ba.skills.loc[(ba.skills.str.contains('анализ'))] = 'анализ (данных, финансовый, т.д.)'\n",
      "C:\\Users\\ePROkhorov\\AppData\\Local\\Temp\\ipykernel_7596\\4232367032.py:5: SettingWithCopyWarning: \n",
      "A value is trying to be set on a copy of a slice from a DataFrame\n",
      "\n",
      "See the caveats in the documentation: https://pandas.pydata.org/pandas-docs/stable/user_guide/indexing.html#returning-a-view-versus-a-copy\n",
      "  ba.skills.loc[(ba.skills.str.contains('моделирование'))] = 'моделирование (финансовое, экономическое, т.д.)'\n",
      "C:\\Users\\ePROkhorov\\AppData\\Local\\Temp\\ipykernel_7596\\4232367032.py:6: SettingWithCopyWarning: \n",
      "A value is trying to be set on a copy of a slice from a DataFrame\n",
      "\n",
      "See the caveats in the documentation: https://pandas.pydata.org/pandas-docs/stable/user_guide/indexing.html#returning-a-view-versus-a-copy\n",
      "  ba.skills.loc[(ba.skills.str.contains('отчет'))] = 'отчетность (налоговая, бухгалтерская)'\n",
      "C:\\Users\\ePROkhorov\\AppData\\Local\\Temp\\ipykernel_7596\\4232367032.py:7: SettingWithCopyWarning: \n",
      "A value is trying to be set on a copy of a slice from a DataFrame\n",
      "\n",
      "See the caveats in the documentation: https://pandas.pydata.org/pandas-docs/stable/user_guide/indexing.html#returning-a-view-versus-a-copy\n",
      "  ba.skills.loc[(ba.skills.str.contains('bi'))] = 'bi-системы'\n",
      "C:\\Users\\ePROkhorov\\AppData\\Local\\Temp\\ipykernel_7596\\4232367032.py:8: SettingWithCopyWarning: \n",
      "A value is trying to be set on a copy of a slice from a DataFrame\n",
      "\n",
      "See the caveats in the documentation: https://pandas.pydata.org/pandas-docs/stable/user_guide/indexing.html#returning-a-view-versus-a-copy\n",
      "  ba.skills.loc[(ba.skills.str.contains('документ'))] = 'проектная документация'\n",
      "C:\\Users\\ePROkhorov\\AppData\\Local\\Temp\\ipykernel_7596\\4232367032.py:9: SettingWithCopyWarning: \n",
      "A value is trying to be set on a copy of a slice from a DataFrame\n",
      "\n",
      "See the caveats in the documentation: https://pandas.pydata.org/pandas-docs/stable/user_guide/indexing.html#returning-a-view-versus-a-copy\n",
      "  ba.skills.loc[(ba.skills.str.contains('оптимизация'))] = 'оптимизация процессов'\n",
      "C:\\Users\\ePROkhorov\\AppData\\Local\\Temp\\ipykernel_7596\\4232367032.py:10: SettingWithCopyWarning: \n",
      "A value is trying to be set on a copy of a slice from a DataFrame\n",
      "\n",
      "See the caveats in the documentation: https://pandas.pydata.org/pandas-docs/stable/user_guide/indexing.html#returning-a-view-versus-a-copy\n",
      "  ba.skills.loc[(ba.skills.str.contains('исследов'))] = 'проведение исследований'\n",
      "C:\\Users\\ePROkhorov\\AppData\\Local\\Temp\\ipykernel_7596\\4232367032.py:11: SettingWithCopyWarning: \n",
      "A value is trying to be set on a copy of a slice from a DataFrame\n",
      "\n",
      "See the caveats in the documentation: https://pandas.pydata.org/pandas-docs/stable/user_guide/indexing.html#returning-a-view-versus-a-copy\n",
      "  ba.skills.loc[(ba.skills.str.contains('тз'))] = 'составление тз'\n",
      "C:\\Users\\ePROkhorov\\AppData\\Local\\Temp\\ipykernel_7596\\4232367032.py:12: SettingWithCopyWarning: \n",
      "A value is trying to be set on a copy of a slice from a DataFrame\n",
      "\n",
      "See the caveats in the documentation: https://pandas.pydata.org/pandas-docs/stable/user_guide/indexing.html#returning-a-view-versus-a-copy\n",
      "  ba.skills.loc[(ba.skills.str.contains('сбор'))] = 'сбор требований'\n",
      "C:\\Users\\ePROkhorov\\AppData\\Local\\Temp\\ipykernel_7596\\4232367032.py:13: SettingWithCopyWarning: \n",
      "A value is trying to be set on a copy of a slice from a DataFrame\n",
      "\n",
      "See the caveats in the documentation: https://pandas.pydata.org/pandas-docs/stable/user_guide/indexing.html#returning-a-view-versus-a-copy\n",
      "  ba.skills.loc[(ba.skills.str.contains('agile'))] = 'agile'\n"
     ]
    }
   ],
   "source": [
    "ba = ba.loc[ba.skills.str.contains('|'.join(ba_sk))]\n",
    "ba.skills = ba.skills.str.strip()\n",
    "\n",
    "ba.skills.loc[(ba.skills.str.contains('анализ'))] = 'анализ (данных, финансовый, т.д.)'\n",
    "ba.skills.loc[(ba.skills.str.contains('моделирование'))] = 'моделирование (финансовое, экономическое, т.д.)'\n",
    "ba.skills.loc[(ba.skills.str.contains('отчет'))] = 'отчетность (налоговая, бухгалтерская)'\n",
    "ba.skills.loc[(ba.skills.str.contains('bi'))] = 'bi-системы'\n",
    "ba.skills.loc[(ba.skills.str.contains('документ'))] = 'проектная документация'\n",
    "ba.skills.loc[(ba.skills.str.contains('оптимизация'))] = 'оптимизация процессов'\n",
    "ba.skills.loc[(ba.skills.str.contains('исследов'))] = 'проведение исследований'\n",
    "ba.skills.loc[(ba.skills.str.contains('тз'))] = 'составление тз'\n",
    "ba.skills.loc[(ba.skills.str.contains('сбор'))] = 'сбор требований'\n",
    "ba.skills.loc[(ba.skills.str.contains('agile'))] = 'agile'"
   ]
  },
  {
   "attachments": {},
   "cell_type": "markdown",
   "metadata": {},
   "source": [
    "#### Конкат + топ-15 навыков + сводная"
   ]
  },
  {
   "cell_type": "code",
   "execution_count": 105,
   "metadata": {},
   "outputs": [
    {
     "data": {
      "text/html": [
       "<div>\n",
       "<style scoped>\n",
       "    .dataframe tbody tr th:only-of-type {\n",
       "        vertical-align: middle;\n",
       "    }\n",
       "\n",
       "    .dataframe tbody tr th {\n",
       "        vertical-align: top;\n",
       "    }\n",
       "\n",
       "    .dataframe thead th {\n",
       "        text-align: right;\n",
       "    }\n",
       "</style>\n",
       "<table border=\"1\" class=\"dataframe\">\n",
       "  <thead>\n",
       "    <tr style=\"text-align: right;\">\n",
       "      <th></th>\n",
       "      <th>id</th>\n",
       "      <th>spec</th>\n",
       "      <th>experience</th>\n",
       "      <th>skills</th>\n",
       "    </tr>\n",
       "  </thead>\n",
       "  <tbody>\n",
       "    <tr>\n",
       "      <th>0</th>\n",
       "      <td>78400616</td>\n",
       "      <td>Data Scientist</td>\n",
       "      <td>От 3 до 6 лет</td>\n",
       "      <td>python</td>\n",
       "    </tr>\n",
       "    <tr>\n",
       "      <th>0</th>\n",
       "      <td>78400616</td>\n",
       "      <td>Data Scientist</td>\n",
       "      <td>От 3 до 6 лет</td>\n",
       "      <td>математическая статистика</td>\n",
       "    </tr>\n",
       "    <tr>\n",
       "      <th>0</th>\n",
       "      <td>78400616</td>\n",
       "      <td>Data Scientist</td>\n",
       "      <td>От 3 до 6 лет</td>\n",
       "      <td>sql</td>\n",
       "    </tr>\n",
       "    <tr>\n",
       "      <th>1</th>\n",
       "      <td>78381745</td>\n",
       "      <td>Data Scientist</td>\n",
       "      <td>От 3 до 6 лет</td>\n",
       "      <td>nlp</td>\n",
       "    </tr>\n",
       "    <tr>\n",
       "      <th>1</th>\n",
       "      <td>78381745</td>\n",
       "      <td>Data Scientist</td>\n",
       "      <td>От 3 до 6 лет</td>\n",
       "      <td>ml</td>\n",
       "    </tr>\n",
       "    <tr>\n",
       "      <th>...</th>\n",
       "      <td>...</td>\n",
       "      <td>...</td>\n",
       "      <td>...</td>\n",
       "      <td>...</td>\n",
       "    </tr>\n",
       "    <tr>\n",
       "      <th>248</th>\n",
       "      <td>78114804</td>\n",
       "      <td>Продуктовый аналитик</td>\n",
       "      <td>От 1 года до 3 лет</td>\n",
       "      <td>анализ (данных, финансовый, т.д.)</td>\n",
       "    </tr>\n",
       "    <tr>\n",
       "      <th>248</th>\n",
       "      <td>78114804</td>\n",
       "      <td>Продуктовый аналитик</td>\n",
       "      <td>От 1 года до 3 лет</td>\n",
       "      <td>анализ (данных, финансовый, т.д.)</td>\n",
       "    </tr>\n",
       "    <tr>\n",
       "      <th>248</th>\n",
       "      <td>78114804</td>\n",
       "      <td>Продуктовый аналитик</td>\n",
       "      <td>От 1 года до 3 лет</td>\n",
       "      <td>анализ (данных, финансовый, т.д.)</td>\n",
       "    </tr>\n",
       "    <tr>\n",
       "      <th>249</th>\n",
       "      <td>77752332</td>\n",
       "      <td>Продуктовый аналитик</td>\n",
       "      <td>Нет опыта</td>\n",
       "      <td>sql</td>\n",
       "    </tr>\n",
       "    <tr>\n",
       "      <th>249</th>\n",
       "      <td>77752332</td>\n",
       "      <td>Продуктовый аналитик</td>\n",
       "      <td>Нет опыта</td>\n",
       "      <td>анализ (данных, финансовый, т.д.)</td>\n",
       "    </tr>\n",
       "  </tbody>\n",
       "</table>\n",
       "<p>8927 rows × 4 columns</p>\n",
       "</div>"
      ],
      "text/plain": [
       "           id                  spec          experience   \n",
       "0    78400616        Data Scientist       От 3 до 6 лет  \\\n",
       "0    78400616        Data Scientist       От 3 до 6 лет   \n",
       "0    78400616        Data Scientist       От 3 до 6 лет   \n",
       "1    78381745        Data Scientist       От 3 до 6 лет   \n",
       "1    78381745        Data Scientist       От 3 до 6 лет   \n",
       "..        ...                   ...                 ...   \n",
       "248  78114804  Продуктовый аналитик  От 1 года до 3 лет   \n",
       "248  78114804  Продуктовый аналитик  От 1 года до 3 лет   \n",
       "248  78114804  Продуктовый аналитик  От 1 года до 3 лет   \n",
       "249  77752332  Продуктовый аналитик           Нет опыта   \n",
       "249  77752332  Продуктовый аналитик           Нет опыта   \n",
       "\n",
       "                                skills  \n",
       "0                               python  \n",
       "0            математическая статистика  \n",
       "0                                  sql  \n",
       "1                                  nlp  \n",
       "1                                   ml  \n",
       "..                                 ...  \n",
       "248  анализ (данных, финансовый, т.д.)  \n",
       "248  анализ (данных, финансовый, т.д.)  \n",
       "248  анализ (данных, финансовый, т.д.)  \n",
       "249                                sql  \n",
       "249  анализ (данных, финансовый, т.д.)  \n",
       "\n",
       "[8927 rows x 4 columns]"
      ]
     },
     "execution_count": 105,
     "metadata": {},
     "output_type": "execute_result"
    }
   ],
   "source": [
    "df = pd.concat([ds, do, ab, ad, dj, de, ma, sa, ac, fa, ba, pa])\n",
    "df.skills.replace(NaN, '-', inplace=True)\n",
    "df"
   ]
  },
  {
   "cell_type": "code",
   "execution_count": 106,
   "metadata": {},
   "outputs": [],
   "source": [
    "df.to_excel('key_skills_1.xlsx', index=False)"
   ]
  }
 ],
 "metadata": {
  "kernelspec": {
   "display_name": ".venv",
   "language": "python",
   "name": "python3"
  },
  "language_info": {
   "codemirror_mode": {
    "name": "ipython",
    "version": 3
   },
   "file_extension": ".py",
   "mimetype": "text/x-python",
   "name": "python",
   "nbconvert_exporter": "python",
   "pygments_lexer": "ipython3",
   "version": "3.10.8"
  },
  "orig_nbformat": 4,
  "vscode": {
   "interpreter": {
    "hash": "f381cf5d24b160f072f225185fee60e069c3036297c4cd5004a026eb9033355a"
   }
  }
 },
 "nbformat": 4,
 "nbformat_minor": 2
}
