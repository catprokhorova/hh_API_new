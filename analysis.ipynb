{
 "cells": [
  {
   "cell_type": "code",
   "execution_count": 1,
   "metadata": {},
   "outputs": [],
   "source": [
    "import pandas as pd\n",
    "import numpy as np\n",
    "from numpy import NaN\n",
    "from itertools import chain"
   ]
  },
  {
   "cell_type": "code",
   "execution_count": 14,
   "metadata": {},
   "outputs": [],
   "source": [
    "# ac = pd.read_csv('results/1С-аналитик_vac.csv', sep=';', encoding='utf-8')\n",
    "ds = pd.read_csv('results/Data Scientist_vac.csv', sep=';', encoding='utf-8')\n",
    "do = pd.read_csv('results/DataOps-инженер_vac.csv', sep=';', encoding='utf-8')\n",
    "ab = pd.read_csv('results/Аналитик BI_vac.csv', sep=';', encoding='utf-8')\n",
    "ad = pd.read_csv('results/Аналитик данных_vac.csv', sep=';', encoding='utf-8')\n",
    "dj = pd.read_csv('results/Дата-журналист_vac.csv', sep=';', encoding='utf-8')\n",
    "de = pd.read_csv('results/Дата-инженер_vac.csv', sep=';', encoding='utf-8')\n",
    "ma = pd.read_csv('results/Маркетинговый аналитик_vac.csv', sep=';', encoding='utf-8')\n",
    "# pa = pd.read_csv('results/Продуктовый аналитик_vac.csv', sep=';', encoding='utf-8')\n",
    "sa = pd.read_csv('results/Системный аналитик_vac.csv', sep=';', encoding='utf-8')\n",
    "# fa = pd.read_csv('results/Финансовый аналитик_vac.csv', sep=';', encoding='utf-8')\n"
   ]
  },
  {
   "cell_type": "code",
   "execution_count": 10,
   "metadata": {},
   "outputs": [],
   "source": [
    "ad_sk = ['анализ', 'sheets', 'excel', 'статистика', 'визуализация',\n",
    "         'data studio', 'python', 'jupyter notebook', 'numpy', \n",
    "         'pandas', 'сбор', 'sql', 'ml', 'machine learning', 'hadoop']\n",
    "\n",
    "ab_sk = ['анализ', 'sheets', 'excel', 'статистика', 'визуализация', \n",
    "         'data studio', 'power bi', 'pivot', 'datalens', 'tableau',\n",
    "         'сбор', 'sql', 'ssas']\n",
    "\n",
    "sa_sk = ['разработка по', 'agile', 'scrum', 'моделирование бизнес-процессов',\n",
    "         'нотации', 'проектирование', 'сбор', 'описание', 'визуализация',\n",
    "         'прототипирование', 'figma', 'sql', 'rest api', 'soap', 'open api',\n",
    "         'проектная документация', 'cjm', 'тз', 'спецификация', 'SRS', 'bcm']\n",
    "\n",
    "ma_sk = ['анализ', 'sheets', 'статистика', 'визуализация', 'google looker studio',\n",
    "         'метрики', 'юнит-экономика', 'поиск точек роста', 'RFM-анализ', \n",
    "         'когортный анализ', 'веб-аналитика', 'яндекс метрика', 'google analitics',\n",
    "         'ab', 'sql', 'power bi', 'python', 'numpy', 'pandas', 'api']\n",
    "\n",
    "dj_sk = ['анализ', 'сбор', 'очистка', 'визуализация', 'построение карт', 'сторителлинг',\n",
    "         'python', 'pandas', 'статистика', 'tableau']\n",
    "\n",
    "de_do_sk = ['sql', 'базы данных', 'etl', 'bi', 'python', 'pandas', 'numpy',\n",
    "            'hadoop', 'mapreduce', 'apache', 'kafka', 'spark', 'airflow',\n",
    "            'clickhouse', 'yandex cloud', 'docker', 'kubernetes',\n",
    "            'ansible', 'gitlab ci', 'mlflow']\n",
    "\n",
    "ds_sk = ['анализ', 'sheets', 'статистика', 'data studio', 'python', 'sql',\n",
    "         'ml', 'machine learning', 'сбор', 'визуализация', 'исследование',\n",
    "         'нейронные сети', 'нейросети', 'временные ряды', 'алгоритм',\n",
    "         'sklearn', 'tensorflow', 'pytorch','cv', 'gan', 'nlp']\n"
   ]
  },
  {
   "attachments": {},
   "cell_type": "markdown",
   "metadata": {},
   "source": [
    "#### 1 / 11 Аналитик данных, подготовка к конкату"
   ]
  },
  {
   "cell_type": "code",
   "execution_count": 15,
   "metadata": {},
   "outputs": [],
   "source": [
    "ad.drop(['job_title', 'city', 'employer', 'schedule', 'experience',\n",
    "         'published', 'salary_from', 'salary_to', 'currency'], \n",
    "         axis=1, inplace=True)\n",
    "ad.skills.replace(NaN, '-', inplace=True)\n",
    "\n",
    "def chainer(s):\n",
    "    return list(chain.from_iterable(s.str.split(',')))\n",
    "\n",
    "lens = ad.skills.str.split(',').map(len)\n",
    "\n",
    "ad = pd.DataFrame({'id': np.repeat(ad['id'], lens),\n",
    "                    'spec': np.repeat(ad['spec'], lens),\n",
    "                    'skills': chainer(ad['skills'])})"
   ]
  },
  {
   "cell_type": "code",
   "execution_count": null,
   "metadata": {},
   "outputs": [],
   "source": [
    "ad = ad.loc[ad.skills.str.contains('|'.join(ad_sk))]\n",
    "ad.skills = ad.skills.str.strip()\n",
    "\n",
    "ad.skills.loc[(ad.skills.str.contains('sql'))] = 'sql'\n",
    "ad.skills.loc[(ad.skills.str.contains('excel'))] = 'excel'\n",
    "ad.skills.loc[(ad.skills.str.contains('machine learning'))] = 'ml'\n",
    "ad.skills.loc[(ad.skills.str.contains('анализ'))] = 'анализ (данных, финансовый, т.д.)'"
   ]
  },
  {
   "attachments": {},
   "cell_type": "markdown",
   "metadata": {},
   "source": [
    "#### 2 / 11 Data Scientist, подготовка к конкату"
   ]
  },
  {
   "cell_type": "code",
   "execution_count": 17,
   "metadata": {},
   "outputs": [],
   "source": [
    "ds.drop(['job_title', 'city', 'employer', 'schedule', 'experience',\n",
    "         'published', 'salary_from', 'salary_to', 'currency'], \n",
    "         axis=1, inplace=True)\n",
    "ds.skills.replace(NaN, '-', inplace=True)\n",
    "\n",
    "def chainer(s):\n",
    "    return list(chain.from_iterable(s.str.split(',')))\n",
    "\n",
    "lens = ds.skills.str.split(',').map(len)\n",
    "\n",
    "ds = pd.DataFrame({'id': np.repeat(ds['id'], lens),\n",
    "                    'spec': np.repeat(ds['spec'], lens),\n",
    "                    'skills': chainer(ds['skills'])})"
   ]
  },
  {
   "cell_type": "code",
   "execution_count": null,
   "metadata": {},
   "outputs": [],
   "source": [
    "ds = ds.loc[ds.skills.str.contains('|'.join(ds_sk))]\n",
    "ds.skills = ds.skills.str.strip()\n",
    "\n",
    "ds.skills.loc[(ds.skills.str.contains('sql'))] = 'sql'\n",
    "ds.skills.loc[(ds.skills.str.contains('excel'))] = 'excel'\n",
    "ds.skills.loc[(ds.skills.str.contains('machine learning'))] = 'ml'\n",
    "ds.skills.loc[(ds.skills.str.contains('ml'))] = 'ml'\n",
    "ds.skills.loc[(ds.skills.str.contains('анализ'))] = 'анализ (данных, финансовый, т.д.)'"
   ]
  },
  {
   "attachments": {},
   "cell_type": "markdown",
   "metadata": {},
   "source": [
    "#### 3 / 11 Аналитик BI, подготовка к конкату"
   ]
  },
  {
   "cell_type": "code",
   "execution_count": 19,
   "metadata": {},
   "outputs": [],
   "source": [
    "ab.drop(['job_title', 'city', 'employer', 'schedule', 'experience',\n",
    "         'published', 'salary_from', 'salary_to', 'currency'], \n",
    "         axis=1, inplace=True)\n",
    "ab.skills.replace(NaN, '-', inplace=True)\n",
    "\n",
    "def chainer(s):\n",
    "    return list(chain.from_iterable(s.str.split(',')))\n",
    "\n",
    "lens = ab.skills.str.split(',').map(len)\n",
    "\n",
    "ab = pd.DataFrame({'id': np.repeat(ab['id'], lens),\n",
    "                    'spec': np.repeat(ab['spec'], lens),\n",
    "                    'skills': chainer(ab['skills'])})"
   ]
  },
  {
   "cell_type": "code",
   "execution_count": null,
   "metadata": {},
   "outputs": [],
   "source": [
    "ab = ab.loc[ab.skills.str.contains('|'.join(ab_sk))]\n",
    "ab.skills = ab.skills.str.strip()\n",
    "\n",
    "ab.skills.loc[(ab.skills.str.contains('sql'))] = 'sql'\n",
    "ab.skills.loc[(ab.skills.str.contains('excel'))] = 'excel'\n",
    "ab.skills.loc[(ab.skills.str.contains('bi'))] = 'power bi'\n",
    "ab.skills.loc[(ab.skills.str.contains('pivot'))] = 'pivot'\n",
    "ab.skills.loc[(ab.skills.str.contains('анализ'))] = 'анализ (данных, финансовый, т.д.)'"
   ]
  },
  {
   "attachments": {},
   "cell_type": "markdown",
   "metadata": {},
   "source": [
    "#### 4 / 11 Системный аналитик, подготовка к конкату"
   ]
  },
  {
   "cell_type": "code",
   "execution_count": 21,
   "metadata": {},
   "outputs": [],
   "source": [
    "sa.drop(['job_title', 'city', 'employer', 'schedule', 'experience',\n",
    "         'published', 'salary_from', 'salary_to', 'currency'], \n",
    "         axis=1, inplace=True)\n",
    "sa.skills.replace(NaN, '-', inplace=True)\n",
    "\n",
    "def chainer(s):\n",
    "    return list(chain.from_iterable(s.str.split(',')))\n",
    "\n",
    "lens = sa.skills.str.split(',').map(len)\n",
    "\n",
    "sa = pd.DataFrame({'id': np.repeat(sa['id'], lens),\n",
    "                    'spec': np.repeat(sa['spec'], lens),\n",
    "                    'skills': chainer(sa['skills'])})"
   ]
  },
  {
   "cell_type": "code",
   "execution_count": null,
   "metadata": {},
   "outputs": [],
   "source": [
    "sa = sa.loc[sa.skills.str.contains('|'.join(sa_sk))]\n",
    "sa.skills = sa.skills.str.strip()\n",
    "\n",
    "sa.skills.loc[(sa.skills.str.contains('sql'))] = 'sql'\n",
    "sa.skills.loc[(sa.skills.str.contains('agile'))] = 'agile'\n",
    "sa.skills.loc[(sa.skills.str.contains('тз'))] = 'написание тз'\n",
    "sa.skills.loc[(sa.skills.str.contains('soap'))] = 'soap'\n",
    "sa.skills.loc[(sa.skills.str.contains('моделирование | проектирование'))] = 'проектирование (интерфейсов, api, т.д.)'\n",
    "sa.skills.loc[(sa.skills.str.contains('сбор требований'))] = 'сбор требований'"
   ]
  },
  {
   "attachments": {},
   "cell_type": "markdown",
   "metadata": {},
   "source": [
    "#### 5 / 11 Маркетинговый аналитик, подготовка к конкату"
   ]
  },
  {
   "cell_type": "code",
   "execution_count": 23,
   "metadata": {},
   "outputs": [],
   "source": [
    "ma.drop(['job_title', 'city', 'employer', 'schedule', 'experience',\n",
    "         'published', 'salary_from', 'salary_to', 'currency'], \n",
    "         axis=1, inplace=True)\n",
    "ma.skills.replace(NaN, '-', inplace=True)\n",
    "\n",
    "def chainer(s):\n",
    "    return list(chain.from_iterable(s.str.split(',')))\n",
    "\n",
    "lens = ma.skills.str.split(',').map(len)\n",
    "\n",
    "ma = pd.DataFrame({'id': np.repeat(ma['id'], lens),\n",
    "                    'spec': np.repeat(ma['spec'], lens),\n",
    "                    'skills': chainer(ma['skills'])})"
   ]
  },
  {
   "cell_type": "code",
   "execution_count": null,
   "metadata": {},
   "outputs": [],
   "source": [
    "ma = ma.loc[ma.skills.str.contains('|'.join(ma_sk))]\n",
    "ma.skills = ma.skills.str.strip()\n",
    "\n",
    "ma.skills.loc[(ma.skills.str.contains('анализ'))] = 'анализ (данных, финансовый, т.д.)'\n",
    "ma.skills.loc[(ma.skills.str.contains('sql'))] = 'sql'\n",
    "ma.skills.loc[(ma.skills.str.contains('статистика'))] = 'статистика'"
   ]
  },
  {
   "attachments": {},
   "cell_type": "markdown",
   "metadata": {},
   "source": [
    "#### 6 / 11 Дата-журналист, подготовка к конкату"
   ]
  },
  {
   "cell_type": "code",
   "execution_count": 25,
   "metadata": {},
   "outputs": [],
   "source": [
    "dj.drop(['job_title', 'city', 'employer', 'schedule', 'experience',\n",
    "         'published', 'salary_from', 'salary_to', 'currency'], \n",
    "         axis=1, inplace=True)\n",
    "dj.skills.replace(NaN, '-', inplace=True)\n",
    "\n",
    "def chainer(s):\n",
    "    return list(chain.from_iterable(s.str.split(',')))\n",
    "\n",
    "lens = dj.skills.str.split(',').map(len)\n",
    "\n",
    "dj = pd.DataFrame({'id': np.repeat(dj['id'], lens),\n",
    "                    'spec': np.repeat(dj['spec'], lens),\n",
    "                    'skills': chainer(dj['skills'])})"
   ]
  },
  {
   "cell_type": "code",
   "execution_count": null,
   "metadata": {},
   "outputs": [],
   "source": [
    "dj = dj.loc[dj.skills.str.contains('|'.join(dj_sk))]\n",
    "dj.skills = dj.skills.str.strip()\n",
    "\n",
    "dj.skills.loc[(dj.skills.str.contains('анализ'))] = 'анализ данных'\n",
    "dj.skills.loc[(dj.skills.str.contains('сбор'))] = 'сбор данных'\n",
    "dj.skills.loc[(dj.skills.str.contains('визуализация'))] = 'визуализация данных'\n",
    "dj.skills.loc[(dj.skills.str.contains('storytelling'))] = 'сторителлинг'\n",
    "dj.skills.loc[(dj.skills.str.contains('story telling'))] = 'сторителлинг'"
   ]
  },
  {
   "attachments": {},
   "cell_type": "markdown",
   "metadata": {},
   "source": [
    "#### 7-8 / 11 Дата-инженер | DataOps-инженер, подготовка к конкату"
   ]
  },
  {
   "cell_type": "code",
   "execution_count": 27,
   "metadata": {},
   "outputs": [],
   "source": [
    "#DataOps\n",
    "do.drop(['job_title', 'city', 'employer', 'schedule', 'experience',\n",
    "         'published', 'salary_from', 'salary_to', 'currency'], \n",
    "         axis=1, inplace=True)\n",
    "do.skills.replace(NaN, '-', inplace=True)\n",
    "\n",
    "def chainer(s):\n",
    "    return list(chain.from_iterable(s.str.split(',')))\n",
    "\n",
    "lens = do.skills.str.split(',').map(len)\n",
    "\n",
    "do = pd.DataFrame({'id': np.repeat(do['id'], lens),\n",
    "                    'spec': np.repeat(do['spec'], lens),\n",
    "                    'skills': chainer(do['skills'])})"
   ]
  },
  {
   "cell_type": "code",
   "execution_count": 28,
   "metadata": {},
   "outputs": [
    {
     "data": {
      "text/plain": [
       "array(['python', 'docker', 'clickhouse', 'airflow', 'kubernetes', 'kafka',\n",
       "       'rabbitmq', 'nosql', 'hadoop', 'postgresql', 'spark'], dtype=object)"
      ]
     },
     "execution_count": 28,
     "metadata": {},
     "output_type": "execute_result"
    }
   ],
   "source": [
    "do = do.loc[do.skills.str.contains('|'.join(de_do_sk))]\n",
    "do.skills = do.skills.str.strip()\n",
    "\n",
    "do.skills.unique()\n",
    "\n",
    "# do.skills.loc[(do.skills.str.contains('...'))] = '...'\n",
    "# do.skills.loc[(do.skills.str.contains('...'))] = '...'"
   ]
  },
  {
   "cell_type": "code",
   "execution_count": null,
   "metadata": {},
   "outputs": [],
   "source": [
    "# дата-инженер\n",
    "de.drop(['job_title', 'city', 'employer', 'schedule', 'experience',\n",
    "         'published', 'salary_from', 'salary_to', 'currency'], \n",
    "         axis=1, inplace=True)\n",
    "de.skills.replace(NaN, '-', inplace=True)\n",
    "\n",
    "def chainer(s):\n",
    "    return list(chain.from_iterable(s.str.split(',')))\n",
    "\n",
    "lens = de.skills.str.split(',').map(len)\n",
    "\n",
    "de = pd.DataFrame({'id': np.repeat(de['id'], lens),\n",
    "                    'spec': np.repeat(de['spec'], lens),\n",
    "                    'skills': chainer(de['skills'])})"
   ]
  },
  {
   "cell_type": "code",
   "execution_count": null,
   "metadata": {},
   "outputs": [],
   "source": [
    "de = de.loc[de.skills.str.contains('|'.join(de_do_sk))]\n",
    "de.skills = de.skills.str.strip()\n",
    "\n",
    "de.skills.loc[(de.skills.str.contains('sql'))] = 'sql'\n",
    "de.skills.loc[(de.skills.str.contains('bi'))] = 'power bi'\n",
    "de.skills.loc[(de.skills.str.contains('airflow'))] = 'airflow'\n",
    "de.skills.loc[(de.skills.str.contains('nifi|ni-fi'))] = 'nifi'"
   ]
  },
  {
   "attachments": {},
   "cell_type": "markdown",
   "metadata": {},
   "source": [
    "#### 9 / 11 ***, подготовка к конкату"
   ]
  },
  {
   "cell_type": "code",
   "execution_count": null,
   "metadata": {},
   "outputs": [],
   "source": []
  },
  {
   "attachments": {},
   "cell_type": "markdown",
   "metadata": {},
   "source": [
    "#### 10 / 11 ***, подготовка к конкату"
   ]
  },
  {
   "cell_type": "code",
   "execution_count": null,
   "metadata": {},
   "outputs": [],
   "source": []
  },
  {
   "attachments": {},
   "cell_type": "markdown",
   "metadata": {},
   "source": [
    "#### 11 / 11 ***, подготовка к конкату"
   ]
  },
  {
   "cell_type": "code",
   "execution_count": null,
   "metadata": {},
   "outputs": [],
   "source": []
  },
  {
   "attachments": {},
   "cell_type": "markdown",
   "metadata": {},
   "source": [
    "#### Конкат + топ-15 навыков + сводная"
   ]
  },
  {
   "cell_type": "code",
   "execution_count": 31,
   "metadata": {},
   "outputs": [
    {
     "data": {
      "text/html": [
       "<div>\n",
       "<style scoped>\n",
       "    .dataframe tbody tr th:only-of-type {\n",
       "        vertical-align: middle;\n",
       "    }\n",
       "\n",
       "    .dataframe tbody tr th {\n",
       "        vertical-align: top;\n",
       "    }\n",
       "\n",
       "    .dataframe thead th {\n",
       "        text-align: right;\n",
       "    }\n",
       "</style>\n",
       "<table border=\"1\" class=\"dataframe\">\n",
       "  <thead>\n",
       "    <tr style=\"text-align: right;\">\n",
       "      <th></th>\n",
       "      <th>id</th>\n",
       "      <th>spec</th>\n",
       "      <th>skills</th>\n",
       "    </tr>\n",
       "  </thead>\n",
       "  <tbody>\n",
       "    <tr>\n",
       "      <th>0</th>\n",
       "      <td>78400616</td>\n",
       "      <td>Data Scientist</td>\n",
       "      <td>python</td>\n",
       "    </tr>\n",
       "    <tr>\n",
       "      <th>0</th>\n",
       "      <td>78400616</td>\n",
       "      <td>Data Scientist</td>\n",
       "      <td>математическая статистика</td>\n",
       "    </tr>\n",
       "    <tr>\n",
       "      <th>0</th>\n",
       "      <td>78400616</td>\n",
       "      <td>Data Scientist</td>\n",
       "      <td>sql</td>\n",
       "    </tr>\n",
       "    <tr>\n",
       "      <th>1</th>\n",
       "      <td>78381745</td>\n",
       "      <td>Data Scientist</td>\n",
       "      <td>nlp</td>\n",
       "    </tr>\n",
       "    <tr>\n",
       "      <th>1</th>\n",
       "      <td>78381745</td>\n",
       "      <td>Data Scientist</td>\n",
       "      <td>ml</td>\n",
       "    </tr>\n",
       "    <tr>\n",
       "      <th>...</th>\n",
       "      <td>...</td>\n",
       "      <td>...</td>\n",
       "      <td>...</td>\n",
       "    </tr>\n",
       "    <tr>\n",
       "      <th>2432</th>\n",
       "      <td>78332437</td>\n",
       "      <td>Системный аналитик</td>\n",
       "      <td>сбор требований</td>\n",
       "    </tr>\n",
       "    <tr>\n",
       "      <th>2433</th>\n",
       "      <td>78858561</td>\n",
       "      <td>Системный аналитик</td>\n",
       "      <td>figma</td>\n",
       "    </tr>\n",
       "    <tr>\n",
       "      <th>2434</th>\n",
       "      <td>77967549</td>\n",
       "      <td>Системный аналитик</td>\n",
       "      <td>soap</td>\n",
       "    </tr>\n",
       "    <tr>\n",
       "      <th>2434</th>\n",
       "      <td>77967549</td>\n",
       "      <td>Системный аналитик</td>\n",
       "      <td>sql</td>\n",
       "    </tr>\n",
       "    <tr>\n",
       "      <th>2435</th>\n",
       "      <td>73480947</td>\n",
       "      <td>Системный аналитик</td>\n",
       "      <td>sql</td>\n",
       "    </tr>\n",
       "  </tbody>\n",
       "</table>\n",
       "<p>4345 rows × 3 columns</p>\n",
       "</div>"
      ],
      "text/plain": [
       "            id                spec                     skills\n",
       "0     78400616      Data Scientist                     python\n",
       "0     78400616      Data Scientist  математическая статистика\n",
       "0     78400616      Data Scientist                        sql\n",
       "1     78381745      Data Scientist                        nlp\n",
       "1     78381745      Data Scientist                         ml\n",
       "...        ...                 ...                        ...\n",
       "2432  78332437  Системный аналитик            сбор требований\n",
       "2433  78858561  Системный аналитик                      figma\n",
       "2434  77967549  Системный аналитик                       soap\n",
       "2434  77967549  Системный аналитик                        sql\n",
       "2435  73480947  Системный аналитик                        sql\n",
       "\n",
       "[4345 rows x 3 columns]"
      ]
     },
     "execution_count": 31,
     "metadata": {},
     "output_type": "execute_result"
    }
   ],
   "source": [
    "df = pd.concat([ds, do, ab, ad, dj, de, ma, sa])\n",
    "df.skills.replace(NaN, '-', inplace=True)\n",
    "df"
   ]
  },
  {
   "cell_type": "code",
   "execution_count": 49,
   "metadata": {},
   "outputs": [
    {
     "data": {
      "text/plain": [
       "['sql',\n",
       " 'анализ (данных, финансовый, т.д.)',\n",
       " 'python',\n",
       " 'soap',\n",
       " 'ml',\n",
       " 'excel',\n",
       " 'agile',\n",
       " 'power bi',\n",
       " 'scrum',\n",
       " 'математическая статистика',\n",
       " 'сбор и анализ информации',\n",
       " 'rest api',\n",
       " 'tableau',\n",
       " 'pytorch',\n",
       " 'написание тз']"
      ]
     },
     "execution_count": 49,
     "metadata": {},
     "output_type": "execute_result"
    }
   ],
   "source": [
    "top_15 = df.skills.value_counts().to_frame().reset_index().head(15)\n",
    "list_top = list(top_15.skills)\n",
    "list_top"
   ]
  },
  {
   "cell_type": "code",
   "execution_count": 54,
   "metadata": {},
   "outputs": [],
   "source": [
    "df = df[df.skills.isin(list_top)]"
   ]
  },
  {
   "cell_type": "code",
   "execution_count": 58,
   "metadata": {},
   "outputs": [],
   "source": [
    "df = pd.pivot_table(\n",
    "    df,\n",
    "    index='skills',\n",
    "    columns='spec',\n",
    "    values='id',\n",
    "    aggfunc='count'\n",
    ").reset_index()"
   ]
  },
  {
   "cell_type": "code",
   "execution_count": 61,
   "metadata": {},
   "outputs": [],
   "source": [
    "df.to_excel('hh_vacancies.xlsx', index=False)"
   ]
  }
 ],
 "metadata": {
  "kernelspec": {
   "display_name": ".venv",
   "language": "python",
   "name": "python3"
  },
  "language_info": {
   "codemirror_mode": {
    "name": "ipython",
    "version": 3
   },
   "file_extension": ".py",
   "mimetype": "text/x-python",
   "name": "python",
   "nbconvert_exporter": "python",
   "pygments_lexer": "ipython3",
   "version": "3.10.8"
  },
  "orig_nbformat": 4,
  "vscode": {
   "interpreter": {
    "hash": "f381cf5d24b160f072f225185fee60e069c3036297c4cd5004a026eb9033355a"
   }
  }
 },
 "nbformat": 4,
 "nbformat_minor": 2
}
